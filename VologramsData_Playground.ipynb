{
  "nbformat": 4,
  "nbformat_minor": 0,
  "metadata": {
    "colab": {
      "name": "VologramsData_Playground.ipynb",
      "provenance": [],
      "collapsed_sections": [],
      "toc_visible": true,
      "authorship_tag": "ABX9TyOm1zZ6Bp7cjZYGGftHKYGE",
      "include_colab_link": true
    },
    "kernelspec": {
      "name": "python3",
      "display_name": "Python 3"
    }
  },
  "cells": [
    {
      "cell_type": "markdown",
      "metadata": {
        "id": "view-in-github",
        "colab_type": "text"
      },
      "source": [
        "<a href=\"https://colab.research.google.com/github/SaKi1309/MasterthesisVolograms/blob/master/VologramsData_Playground.ipynb\" target=\"_parent\"><img src=\"https://colab.research.google.com/assets/colab-badge.svg\" alt=\"Open In Colab\"/></a>"
      ]
    },
    {
      "cell_type": "markdown",
      "metadata": {
        "id": "2R4ao9mvjcNz"
      },
      "source": [
        ""
      ]
    },
    {
      "cell_type": "markdown",
      "metadata": {
        "id": "MFI4CySWjT3J"
      },
      "source": [
        "<a name=\"0\"></a>\r\n",
        "# 0. Initial steps"
      ]
    },
    {
      "cell_type": "markdown",
      "metadata": {
        "id": "TcrUlXGXjKJL"
      },
      "source": [
        "<a name=\"0-1\"></a>\r\n",
        "## 0.1 Mount your drive\r\n",
        "\r\n",
        "Please run the next code cell and follow these steps to mount your Google Drive so that it can be accessed by this Colab.\r\n",
        "- Run the code cell below.  A web link will appear below the cell.\r\n",
        "- Please click on the web link, which will open a new tab in your browser, which asks you to choose your google account.\r\n",
        "- Choose your google account to login.\r\n",
        "- The page will display \"Google Drive File Stream wants to access your Google Account\".  Please click \"Allow\".\r\n",
        "- The page will now show a code (a line of text).  Please copy the code and return to this Colab.\r\n",
        "- Paste the code the textbox that is labeled \"Enter your authorization code:\" and hit `<Enter>`\r\n",
        "- The text will now say \"Mounted at /content/drive/\""
      ]
    },
    {
      "cell_type": "code",
      "metadata": {
        "colab": {
          "base_uri": "https://localhost:8080/"
        },
        "id": "5QFSxaRei_T1",
        "outputId": "3259d630-89f4-401e-a8e2-6ba65b75fe77"
      },
      "source": [
        "from google.colab import drive\r\n",
        "drive.mount('/content/drive/', force_remount=True)"
      ],
      "execution_count": 2,
      "outputs": [
        {
          "output_type": "stream",
          "text": [
            "Mounted at /content/drive/\n"
          ],
          "name": "stdout"
        }
      ]
    },
    {
      "cell_type": "markdown",
      "metadata": {
        "id": "5H82gjbkqzFU"
      },
      "source": [
        "<a name=\"1\"></a>\r\n",
        "# 1. Environment"
      ]
    },
    {
      "cell_type": "markdown",
      "metadata": {
        "id": "GahAsjcPkd0r"
      },
      "source": [
        "<a name=\"1-1\"></a>\r\n",
        "## 1.1 Importing Libraries"
      ]
    },
    {
      "cell_type": "code",
      "metadata": {
        "id": "xbpdJkWrj749"
      },
      "source": [
        "import tensorflow as tf\r\n",
        "import numpy as np\r\n",
        "import matplotlib.pyplot as plt\r\n",
        "import tensorflow_datasets as tfds\r\n",
        "import os\r\n",
        "import cv2\r\n",
        "from tqdm import tqdm\r\n",
        "\r\n",
        "print(\"Tensorflow version \" + tf.__version__)"
      ],
      "execution_count": 1,
      "outputs": []
    },
    {
      "cell_type": "markdown",
      "metadata": {
        "id": "78px0hkprxzz"
      },
      "source": [
        "<a name=\"1-2\"></a>\r\n",
        "## 1.2 Distribution Strategy - HW Detection\r\n",
        "Depending on the hardware available, different distribution strategies will be applied.\r\n",
        "\r\n",
        "- If the TPU is available, the TPU Strategy is used.\r\n",
        "Otherwise:\r\n",
        "- If more than one GPU is available, then the Mirrored Strategy is applied\r\n",
        "- If one GPU is available or if just the CPU is available, the default strategy is applied."
      ]
    },
    {
      "cell_type": "code",
      "metadata": {
        "id": "wrYuTev5rhGI"
      },
      "source": [
        "# Detect hardware\r\n",
        "try:\r\n",
        "  tpu = tf.distribute.cluster_resolver.TPUClusterResolver() # TPU detection\r\n",
        "except ValueError:\r\n",
        "  tpu = None\r\n",
        "  gpus = tf.config.experimental.list_logical_devices(\"GPU\")\r\n",
        "    \r\n",
        "# Select appropriate distribution strategy\r\n",
        "if tpu:\r\n",
        "  tf.config.experimental_connect_to_cluster(tpu)\r\n",
        "  tf.tpu.experimental.initialize_tpu_system(tpu)\r\n",
        "  strategy = tf.distribute.experimental.TPUStrategy(tpu) # Going back and forth between TPU and host is expensive. Better to run 128 batches on the TPU before reporting back.\r\n",
        "  print('Running on TPU ', tpu.cluster_spec().as_dict()['worker'])  \r\n",
        "elif len(gpus) > 1:\r\n",
        "  strategy = tf.distribute.MirroredStrategy([gpu.name for gpu in gpus])\r\n",
        "  print('Running on multiple GPUs ', [gpu.name for gpu in gpus])\r\n",
        "elif len(gpus) == 1:\r\n",
        "  strategy = tf.distribute.get_strategy() # default strategy that works on CPU and single GPU\r\n",
        "  print('Running on single GPU ', gpus[0].name)\r\n",
        "else:\r\n",
        "  strategy = tf.distribute.get_strategy() # default strategy that works on CPU and single GPU\r\n",
        "  print('Running on CPU')\r\n",
        "print(\"Number of accelerators: \", strategy.num_replicas_in_sync)"
      ],
      "execution_count": null,
      "outputs": []
    },
    {
      "cell_type": "markdown",
      "metadata": {
        "id": "yBXuG9bFkOKe"
      },
      "source": [
        "<a name=\"1-3\"></a>\r\n",
        "## 1.3 Global Parameters"
      ]
    },
    {
      "cell_type": "code",
      "metadata": {
        "id": "KgPwAm5-kOyM"
      },
      "source": [
        "DATA_PATH = os.path.join(\"/content\",\"drive\",\"My Drive\",\"DatasetVolograms\", \"Synthetic_Data_Samples\")\r\n",
        "\r\n",
        "# The global batch size is the batch size per replica (1 in this case) times the number of replicas in the distribution strategy (In Colab: 8 for TPU, 1 for GPU and CPU).\r\n",
        "BATCH_SIZE = 1 * strategy.num_replicas_in_sync"
      ],
      "execution_count": 11,
      "outputs": []
    },
    {
      "cell_type": "markdown",
      "metadata": {
        "id": "bybUdCgapKIP"
      },
      "source": [
        "<a name=\"2\"></a>\r\n",
        "# 2. Utilities and Helper Functions"
      ]
    },
    {
      "cell_type": "code",
      "metadata": {
        "id": "81JCdbikj-uQ"
      },
      "source": [
        "#Remove _RGB_ and _DEPTH_ from the file names to ensure same naming...\r\n",
        "def Prepare_filename(directory):\r\n",
        "    for filename in os.listdir(directory):\r\n",
        "        #os.rename(os.path.join(directory, filename), os.path.join(directory, newFilename))\r\n",
        "        if \"_RGB_\" in filename:\r\n",
        "            newFilename = filename.replace(\"_RGB_\",\"_\")\r\n",
        "            os.rename(os.path.join(directory, filename), os.path.join(directory, newFilename))\r\n",
        "        elif \"_DEPTH_\" in filename:\r\n",
        "            newFilename = filename.replace(\"_DEPTH_\",\"_\")\r\n",
        "            os.rename(os.path.join(directory, filename), os.path.join(directory, newFilename))"
      ],
      "execution_count": null,
      "outputs": []
    },
    {
      "cell_type": "code",
      "metadata": {
        "id": "JMC5BrFvkBjU"
      },
      "source": [
        "#loads RGB and DEPTH images and combines them into one RGBD Dataset. Shape (sample, Height, Width, Channel). Channel: R,G,B,D\r\n",
        "def Combine_color_depth(directory):\r\n",
        "    \r\n",
        "    #get list from all filenames without file extension. Note that RGB and EXR need to have the same name!\r\n",
        "    fileNames = [\".\".join(f.split(\".\")[:-1]) for f in os.listdir(directory)]\r\n",
        "    \r\n",
        "    #Hack to remove duplicates from List\r\n",
        "    fileNames = list(dict.fromkeys(fileNames))\r\n",
        "    \r\n",
        "    numberOfFiles = len(fileNames)\r\n",
        "\r\n",
        "    #empty array container\r\n",
        "    combined = np.zeros(shape = (numberOfFiles, 512, 512, 4), dtype=float)\r\n",
        "\r\n",
        "    #setup progressbar\r\n",
        "    pbar = tqdm(total=numberOfFiles, position=0, leave=True, bar_format='{l_bar}{bar}| {n_fmt}/{total_fmt} ')\r\n",
        "    \r\n",
        "\r\n",
        "    for i in range(0, numberOfFiles):\r\n",
        "        currentFile = os.path.join(directory,fileNames[i])\r\n",
        "        image = cv2.imread(currentFile + '.png')[:,:,::-1] #OPEN CV reads images in BGR not in RGB!!!!\r\n",
        "        depth = cv2.imread(currentFile + '.exr', cv2.IMREAD_ANYCOLOR | cv2.IMREAD_ANYDEPTH)\r\n",
        "\r\n",
        "        #print(\"Iteration {} of {}: Image = {},  Depth = {}\".format(i, numberOfFiles, image.shape, depth.shape))\r\n",
        "        \r\n",
        "        image = image/255;\r\n",
        "        depth = depth/5;\r\n",
        "        \r\n",
        "        combined[i,:,:,0:3] = image\r\n",
        "        combined[i,:,:,3] = depth\r\n",
        "\r\n",
        "        pbar.set_description(\"Load images\") #works better if set in every loop! \r\n",
        "        pbar.update()\r\n",
        "\r\n",
        "    #print(\"Combined = {}\".format(combined.shape))\r\n",
        "    \r\n",
        "    return combined"
      ],
      "execution_count": 4,
      "outputs": []
    },
    {
      "cell_type": "code",
      "metadata": {
        "id": "-5ky82yMkGWV"
      },
      "source": [
        "def Create_tensorflow_dataset(data):\r\n",
        "    dataset = tf.data.Dataset.from_tensors(data)\r\n",
        "    #print(dataset)\r\n",
        "    #dataset = dataset.take(3)\r\n",
        "    #print(list(dataset.as_numpy_iterator()))\r\n",
        "\r\n",
        "\r\n",
        "    #path = os.path.join(\"Datasets\",\"dataset\")\r\n",
        "    #tf.data.experimental.save(dataset, path)\r\n",
        "   # new_dataset = tf.data.experimental.load(path, tf.TensorSpec(shape=(30,512,512,4), dtype=tf.float32))\r\n",
        "\r\n",
        "    #new_dataset = dataset.take(3)\r\n",
        "    #print(list(new_dataset.as_numpy_iterator()))\r\n",
        "    #print(new_dataset)\r\n",
        "    return dataset"
      ],
      "execution_count": null,
      "outputs": []
    },
    {
      "cell_type": "code",
      "metadata": {
        "id": "Lma_qKcZkD7-"
      },
      "source": [
        "def Plot_RGBD_Sample(rgbd):\r\n",
        "    fig = plt.figure()\r\n",
        "    ax = fig.add_subplot(1, 2, 1)\r\n",
        "    imgplot = plt.imshow(rgbd[:,:,0:3])\r\n",
        "    ax.set_title('RGB')\r\n",
        "    #plt.colorbar(ticks=[0.1, 0.3, 0.5, 0.7], orientation='horizontal')\r\n",
        "    ax = fig.add_subplot(1, 2, 2)\r\n",
        "    imgplot = plt.imshow(rgbd[:,:,3])\r\n",
        "    #imgplot.set_clim(0.0, 0.7)\r\n",
        "    ax.set_title('Depth')\r\n",
        "    #plt.colorbar(ticks=[0.1, 0.3, 0.5, 0.7])\r\n",
        "    plt.show()\r\n",
        "\r\n",
        "def Plot_Multiple_RGBD(rgbd_samples, count = 6):\r\n",
        "    fig = plt.figure()\r\n",
        "    samplesToPlot = min(rgbd_samples.shape[0], count)\r\n",
        "    for i in range(0, samplesToPlot):\r\n",
        "        ax = fig.add_subplot(3, 4, i*2+1)\r\n",
        "        imgplot = plt.imshow(rgbd_samples[i,:,:,0:3])\r\n",
        "        ax.set_title('RGB')\r\n",
        "        #plt.colorbar(ticks=[0.1, 0.3, 0.5, 0.7], orientation='horizontal')\r\n",
        "        ax = fig.add_subplot(3, 4, i*2+2)\r\n",
        "        imgplot = plt.imshow(rgbd_samples[i,:,:,3])\r\n",
        "        #imgplot.set_clim(0.0, 0.7)\r\n",
        "        ax.set_title('Depth')\r\n",
        "        #plt.colorbar(ticks=[0.1, 0.3, 0.5, 0.7])\r\n",
        "    plt.show()"
      ],
      "execution_count": 5,
      "outputs": []
    },
    {
      "cell_type": "markdown",
      "metadata": {
        "id": "GrsfTkJZopO0"
      },
      "source": [
        "<a name=\"3\"></a>\r\n",
        "# 3. Preparing the Data"
      ]
    },
    {
      "cell_type": "markdown",
      "metadata": {
        "id": "IoBqRHuxo55r"
      },
      "source": [
        "<a name=\"4\"></a>\r\n",
        "# 4. Defining the Model"
      ]
    },
    {
      "cell_type": "markdown",
      "metadata": {
        "id": "veLw5nxWqODT"
      },
      "source": [
        "<a name=\"4-1\"></a>\r\n",
        "## 4.1 Custom Layer\r\n",
        "Keep in Mind: There are <b>no activations possible in custom layers</b> if not manually implemented!"
      ]
    },
    {
      "cell_type": "markdown",
      "metadata": {
        "id": "VPexViI7zRoG"
      },
      "source": [
        "<a name=\"4-1-3\"></a>\r\n",
        "### 4.1.3 Reflection Padding Layer"
      ]
    },
    {
      "cell_type": "markdown",
      "metadata": {
        "id": "Qw2-4bXK1fQG"
      },
      "source": [
        "<a name=\"4-2\"></a>\r\n",
        "## 4.2 Custom Model Block"
      ]
    },
    {
      "cell_type": "markdown",
      "metadata": {
        "id": "mhd2gwzTyk8h"
      },
      "source": [
        "<a name=\"4-2-1\"></a>\r\n",
        "### 4.2.1 Down-Sample Model Block"
      ]
    },
    {
      "cell_type": "markdown",
      "metadata": {
        "id": "Z3_M0B_By_cg"
      },
      "source": [
        "<a name=\"4-2-2\"></a>\r\n",
        "### 4.2.2 Up-Sample Model Block"
      ]
    },
    {
      "cell_type": "markdown",
      "metadata": {
        "id": "udZA1jZczc4g"
      },
      "source": [
        "<a name=\"4-2-4\"></a>\r\n",
        "### 4.2.4 Residual Identity Model Block\r\n",
        "\r\n",
        "Der unten gezeigte Residualblock unterscheidet sich noch von dem CycleGAN Beispiel...\r\n",
        "\r\n",
        "![resnet_block.png](data:image/png;base64,iVBORw0KGgoAAAANSUhEUgAAAUsAAAHMCAYAAABcAor+AAAAAXNSR0IArs4c6QAAAARnQU1BAACxjwv8YQUAAAAJcEhZcwAADpwAAA6cAQeUU90AAImfSURBVHhe7Z0FYBzXnf/bu17v/r0rXeGu3LS9NGmbhqlhcsAMcYyJ2Y6ZmWTLslgWS7taEMssoyRrRWZmTMxMIgsMsv39/35vdqX1emyPwHUs/17y8e7MvEG9+czvzXuz860bNwFBEATh7ogsBUEQDCCyFARBMIDIUhAEwQAiS0EQBAOILAVBEAwgshQEQTCAyFIQBMEAIktBEAQDiCwFQRAMILIUBEEwgMhSEATBACJLQRAEA4gsBUEQDCCyFARBMIDIUhAEwQAiS0EQBAOILAVBEAwgshQEQTCAyFIQBMEAIktBEAQDiCwFQRAMILIUBEEwgMhSEATBACJLQRAEA4gsBUEQDCCyFARBMIDIUhAEwQAiS0EQBAOILAVBEAwgshQEQTDAt27eAARBEIS78y3QP4IgCMLdEVkKgiAYQGQpCIJgAJGlIAiCAUSWgiAIBhBZCoIgGEBkKQiCYACRpSAIggFEloIgCAYQWQqCIBhAZCkIgmAAkaUgCIIBRJaCIAgGEFkKgiAYQGQpCIJgAJGlIAiCAUSWgiAIBhBZCoIgGEBkKQiCYACRpSAIggFEloIgCAYQWQqCIBhAZCkIgmAAkaUgCIIBRJaCIAgGEFkKgiAYQGQpCIJgAJGlIAiCAUSWgiAIBhBZCoIgGEBkKQiCYACRpSAIggFEloIgCAYQWQqCIBhAZCkIgmAAkaUgCIIBRJaCIAgGEFkKgiAYQGQpCIJgAJGlIAiCAUSWgiAIBhBZCoIgGEBkKQiCYACRpSAIggFEloIgCAYQWQqCIBhAZCkIgmAAkaUgCIIBRJaCIAgGEFkKgiAYQGQpCIJgAJGlIAiCAUSWgiAIBhBZCoIgGEBkKTxYbt4DvXkE4QEgshTuA2S5m4xrBH+lYcaZqqpuoKz8Ms6cPY+9+77Ghg1bkZe7Gjk5q7B61UZs27IHh746hgtninD1yjXnXK6kLYf/vVltVcLt6+3bJAj1Q2QpNDg3SZQ36cvNm9fVJ6frV2/i5PELcORuRoR5LibPNGH01AiMmByGUVMiMX56HKb4J2KKXxImzLDTtDiMmhyN0ZPDMW5qGPxm2ZC2MAubtu/DxdIyVPEyiRpZOpPIUrhPiCyFBodleUMNANcomtyyYz+8faPRvd8UDJtoRpBtFazLvkbiiuNIcpxEcs5ZJGafhX3FGSRkn0eC4yISci4gicYn5ZxEiuMYYhZsx6TQ+eg2dAb6jJiGuUscuFBc7tQk/SuCFO4zIkuh4XBFdZSuXbuGzVu2wj8kBiOnRWKGKRtRiw7C6iiCLbcMFiIupxQmwpx7CSYm7xLM+UReOQ1XKMy55QTlyyum8UWIzTqJ4NTNmOCbiNET/JGWOh8Xzp7TVkrbwNV9rcqvDQtCQyGyFBoWShcuXkBsnAVfjvaFj9kBW9ZRWHPPkxiLYM4hGTpIjCxKB4mSySkhIWrE5TGXEEeSjHNUkFDLYaG8FspjJWlaHMWw03I4GjUv2ovBk00YN2kGNm7aiKvXqHJO23DzushSaHhElkLD4Exbtu6Fl38sJgSnUCS5lyLJcyS8C5ooHSTEbJJkdgkNFys4utS4REK8REIsI0iWPE5Fm6WIZZHydAdFpNk0nT6ttAw75bFnn4OfLR9DJoVj3qJ8lJVdUdHtzeuaNKvbmAShnogshfrjrHrv3Lkf02bGwSt8KUyZJ1WkyEI0UzQYR1iyGZIgRZMmHpdbTFXyYlU1t9J4lqCNIkk7STKeIkxrPlW7cwsRRXlMOSRKijStbvBwnKMc1oIyRC84gMFjohGftAyXyirV9txQspQoU2gYRJZC3WFJOkW5e99e+IWYEBibjcQVF0iCfD+SJEdSZFkqYbIsV1A1O5uixLxyBC84jBEh2fBL2Ib47CLYSHxxFDnG07zm5ScwIaoAEyzrEZ55gcTKcqQquRtcRefqOlfl4ynyjJmzD6OmxmJ5TgGuXXdWyT23WRDqiMhSqBtOSXK6VF4OU3wKxvvZYVp0FAm5V2HJrVQNM3F8HzLHDcdlktt1WFdWIWLpUTzbtAeeePMzTI1ZqYRny6lAakExuo2OxQ/+1ARtBkcjNqtQEyNJ0VVlZ7hhiKvncRR18nKTC64gOGEdJvhFYsuu3drG8Xbqbb8g1BKRpVB3nMJcv3ErAiLnIGrOdooKOWq8omQZx7J0SZKq0oyZZGciIZpyyzBn41VMjFyCn/7pJbzZaiDCFhzB7HVAYPJG/N/zH+K5dzrDP2kzRakcPXLruZt0b4EbjCjypHyJOecwbJodCbMXoaKyQttAvW0XhFrS6GWp3eSns5pPbKHhobQ0Ixc+kYthWnoc1nyK9PK0rkEWbr2myFKDZVmkuv+Y87jlm0VaiGSSW7PPx+G/H38N/aclIyHnLN7vMBK//uvbGOmThkTHOVg5mnRwBEnVeAUtzwOOMlnOfK/Tx7IWgREJOHTooLaBOuVCEGpLo5fljes3UFVVJdwHOF0qLUby7HR4R2cgNoPERrK05JHQ8kiUt0BSo/Fx+UUkU/qkcdwVKCWfquUL9+P597vghfc7oeUXY/DzP/0DbXtOh23paarS0/KcEapVBxYlV/VV1yNn63r00hMU6SZj187tahv1yoUg1JbGLUtK+/bsw/y58zE7bTbmpM0RGpAF8xbAYjZh6nR/+MY5EJd9EXaSoGrhJjRBekrTA5LhnHWVGBswB4898TK+9a1/x0vvdIB/wkbE5/OySJYsRDdB3iZL9VkTdcbnXIRfaDy2bNqgFQKOgPXKhyDUgkYvy4UL0hFvT8D6teuxds1arFm9RmggNm7YiGWLF8HXPxw+5myYs8/DrgRnXJbcAT1pZRli527BK298gm9/+9/xRX8vJGSfpCo1RZ8UKbIAXejJ0jWeW+BZrtYV5+ATYsOWzRu1QiCyFBqARi/L5cuWY926ddqApAZPleVlmDN3KWbGrkDcCpYldyy/lyy5qs7Qd8qfuqoIXQYF4LEnX8OPfv5H/OHv72NUwEIVIVpVazpXwykv4SlLxiVMs6NI3R+NSD+EmSTLnTukGi40HI1elhnLM7BurSZL7nPHHZWFhoF/hY3TipxV8IlKR/Tig7DlFZHg+H4ki/J2WapHFvlxRvVIYymSV1dgSmQWfvWX99Cs8yiM9U/Br598B28174+I+Xtgy+dnwrUuQvyEj+vRR09U1yIiIb8M000rERqTguPHj2kb6FkuBKEOPAKRJcly3XptQKpjDYp6BpvS3gNfIyxuNoIT8mDNPqWiO9UXMq/MDRKdqiaTMPk7RZSJqy4hZtFBPP/25/jDs80wNaYAc9ddQfdREfjlE2+i67AwmLNO0Lzc3YhlyN2HuFXck3KSaRUs2VWwLj2D4VPsmJeeiWvXrqjtk7+70BCILIW644wsuWfWnAXLMMEnGtHzNsGed0FFg6Y8EpybMLk7Ef/ikPb8dwlmry5GtxGh+OFvX8ZnA4JhzjyLhJVXYM84jn981Bu/e+pDjJ+1REWr/Jz4bZKkcdxfMzb3Msy5lUigartvdBbCoufg2LHT2sbJ31xoIESWQt2h46n6sFI6d/4iTLY0+ISlwrp8X40wSWaqyu0mSyZldSWmmlbjjy+1R5PPxiBq3n7YHGUwZ1cidRVVzcMz8btnWqFJp6kIX3xURaJaJ/cauG9lLLeW51cgPvc8guw5mEjC3rx1r9om18+18Y9q6G6/INQCkaVQL/iHfl3p8OGjCI9OwNTgFEQv3A1bTqGK/syuyJKkyb8oxJGljb57J2zHyKClCJ+7CwnqxzTKictKmvYVF+BlWocx4QWYtfgEzPksR+0pIK1zOgmTRUkCNS0/CX9bDsb7hCG7YA2uVvGvtNPm8X1VlrnOdgtCbRFZCvWCpcRcd96/5HfqxNrmYuxMO4KSNiIu8xTJsUg17vC9R62hh+VZriLCRIoiEwr4mfBSWLOoep5VDls2/5oQCbWAquSrriKW8seQJFmWDDfo2EiY1hUUzS45igkhCzDWOwzrt23X/sT0TxX9I7IUGhKRpVAvuIdBdXDp/CyvqMTiZQ5M8AnHlNA0hM1maR6DlSJNFp2KLvl+Zu5l4irMOZeJCpgcFaoaHueo1IbVr6XzL6VzA472fDj3o7StOI+YhfsRYM7FGC8zQmPtOHj8qLZySsqPhPzikNCQiCyF+uOSJSUlKOfw2YtUDU+eg6ET/TAlJAWRaRtgXnIQpowTiMs6D6uDO5JXUJRYqX5tiOHfqVTfHZdhUZTBvKKQqtqnYF52GHFL9iGYqtxDJ4ZiyswwrNm0DVeuaW9/5NVWQ/+ILIWGRGQp1B93S1UnbeA6WevgkeOYszADM0NtmBKcgGkRC+BtylC/cD4rZRMi5uxE9Ly9iF1wADELvkLM/AOInLMXoSk7EJK4CX7WfHhFpmPKrCRMCYhFhDkFazdsUxGsKyk58qc2WDNwL/T2RxB0EFkK9cddPio5B6rr51qqunEDh06cQnpmDmaGRGPIWG8MHDUdQ8cFYNTkUAweE4ih44Mweko4Rk4KxaDRfug3fCrGTAuAOXkuNm7fhdKycufSONWsw7lGhUruI+6G3v4Igg4iS6H+eApIJf7i7LPjGu/K60zXq26gpKgEJ46fUE/bJCbYEB0dgQ0b1uLQ4YM4c/YsysvLcYMkW51ci1UvDdcWelP9V7MaldxH3A3XPgjCPRBZCvcJOtjV6Iyn/xVuKT8vHxlLl6OkuMQ5hhLnuWV+d7TWbu6+pBqa3NDPLwh1R2QpPHic0szLzcPSRUtQXFSkjdDLKwgPCJGl8M2AUo4jF4sXLRZZCt9IRJbCA8f1gxwORw4WpbMsi9WwXl5BeFCILIUHTo0sHSTLRSJL4RuJyFJ44IgshYcBkWUtkdbWhkdkKTwMiCwNok5o53fV86V6Gg3wNB14nocNvf2436j1UlKyXLgIRa4GHld/yvtN9d/yIecu+6WOsduwUHtElgZw/S6iml/SfUs5OblYvHgxioudspTUYEk9DsplWKd8C8YQWRqB53OKsoiqiPu/PoLd+w5jz75D2LXva+y4A7v2aux2Z883CLftcW3rTkJvX+43Xx09CXvyHESYrOrHMXbuP4hte77Ctr1fYTt9uuDhhoSXuXN342GHx+e2Xfvw9ZFjuFRRUVOU2ZyeZVy4JyLL2kApIysPE71j1HuuxwfOwST/pDsy0Q3XuAkB3xzct2uSnxP3cU7UPnB+z3l0qM7rMd4T92VOCkzGlMAUjJ5uwQgvMybQdkwOSMGkgGT6JGi6gr7zuPvBRIbW8dDhvh/+GpOdTKfyOWRMMKb7R9CFYT/4R034JLjB95A8y7ZwT0SWtYHS3AXLEWpehqT8QsTnlyE5txgpd4CnuUhykfcNwm379Lbfndrmq1XenCKFGpdTiCTHRSTxpxpH01yofIV3RJtHQ2+6C/d8iU4SmNyHELd9cN8vPobzVl2GX9waeAdasXnrTly/zjcyqSiLLOuEyNIoWjnDvIUZCDFnkGwuIo7fL+MQ6o3zNbba2xv5XT3lt2DNq9DIrbhtmnAnypCw5ia8bVswIzgJ27buxo1qWUo1vC6ILI3ilOXchZkIMmcikSId9X4ZioYePYqc6E27E655jMx3a944ioJrKDGI53yPHvFrr2K6bT1Vx+OxZeuu6shS7lnWDZGlUaplmYGguCySJRVIpyzVS7QeISwksTgFD5OYPKa7sDjRhovUfIznMVN5qIrNLyLTxpXQOF4uwy8m08PI9Jp1PIrEr7mKaVaSZVACtrpFliLLuiGyNMptsuSTsYxOfDox3V7Pqge/ifCbjt5268F5rSQ2a84F2n8WH4+nY0HcaTlmOlZmjnaUYJ1SVNM04fE7xC20TAu/hIyWx+/oUe8Xr35HuHs13TXObR2qOn9rVb4mn0feOuJ+rL6p3LrNJYhfXYVplg13kKUIs7aILI1SLcvlJEuuhvPJzy/Scj8pHwVIZlTNta8kYeazBPmCoZePo25+DW455auAraBce8PjLbLkfCzFCsRTnqRVlUhcWY6klZeRUHCFhKnde9PuwWn3K7V5NDlr0HJYlI5K+l5BeErTU5yPCqUky+v6suQTQTXyiDBrg8jSKLfJkqOiR0iWjksktXLE00kYtvBrTI/fgFn0aXHwq2k5erwEE8uR8popL2PLryThlSBg9j54x29BzNLjJEXOr0WhFgeJN7sMySurEL30LEaGOtB9UhJ6TZ2DabatsGQXKjGbXVJUuEnS+d2svpO0VWMRf/I2a/nNtA7eftdnzXLc9q1RIrJsaESWRrlNllwgKxq9LC0EV4dtFEHG51+Bl2UL2vT1xRstBqFZN29MisolqZ2j6JGjyEuIpWq0iU5UO0WJ5hUXMchvEd79fBJeaT0EnYdHIXj2XvU6W7Xc7GIk0mdA8m60GRiG55oNwMst++P5pn3xQothGBqcgVhadlzuRRJvMRJWlhHltC1c7eTqu/bJ9zfjKXK151MU61w2R6+u+5422i5GidXBiCxFlrVHZGkUXVny+609C2njgsVjoUgtPo+qwRQF9vZajGY9/dBrrBlvthmJFj294Z+4Eeask3QsLlL1vBym7IvEeXgn7kTT3iFo0dsfnw8Px3Pv90SnoWaYll8gqVGUSnILX/A13unshWeaDsHAGfMRkrYTM+PXoc2gMPSdsQDRmSepel5IkedhzIjfjllzDtG2FBOliM0gka44h7D0Q5hh347o9BNIcBQictFRRGecoHVQZJpbDKujiPKehSnzAkXIHG3yvrlX0xsj9DdbfYNkuZFkmSj3LBsAkaVRPGSZoKqcjVWWNSedhaHqLb/L25RRhKDZhxG9+DgWbSpD30lmNO8+BeNDluHLKSkYP2sFklacwejALAyauRh+STsRmPYVLJnnkUAyff/TEZTfFxGLztCyK5C6rgr9vOfh5VbDMCYsEynqfuVV7d5lwSXYudN1QRGmWwrQZoA/3usyBe+TWAd6z6ZlHseE8Dx0HRaDTweE4r1OE9Gy2wzMiHSg5+hY9PdOpcj2FC2vBOMo35fT5mPWvIMqQtZk6bq32VihmsDqmyTLzSTLJA9Z0j96ZVy4KyJLozhlOcdNlhxZ6svmYYdFWXPiWRhHhRJmCsksIHkP2vb3x9/ebIMuQwMRtXAfPhsYhY87jMcXA/zwTqsR6DMxFbYV55G65grGhq/G663G4uUPemCMfzosK0qoql6JeZuBjkMj0X5gEExLDtMx5cYcOqZ5lbBQJJu8+jKC0najSafxaNJ1Agb7zkaX4ZF4+ZO+mBi2BF2HRuB3TzVHq94+GOqbhGfe6oJ2X0xB0y5j8AZV+/2TtyKl4ALe+XQsPvliGkWcR5QsPfevceIuS44sd4ks64nI0iiPlCxd1Jx43MDDUWYKRX0+8Zvw8eeT8JdXW6H9gJmIpSpyFImobc/J+PkfniW5jUTo3P1IXUlyXXUJIwIzSHCD8fy7n2PwtFRELztPsqzAgi0g2Yajy+BgmJccoUiS73tWwpRPUSxV0VM3XEbXUSb8o9kA+FrXYf76G1i86TpaU9W/69BgtO41Da827wffpHVYuuM62vcPwbufjsSo4IW0DaMwNngRAhM34YX3elPkm4iEldzQ4y6UxoyeLLkgiyzrisjSKI+sLCtIlGWqMSUm6zzClx5HbOYJkmAhRvnPxcedJ2B8aDZm5xehS38f/OfPH0fL7hNgzTgOE+WNWHKU5r1AEel5tOjphTfbjYF3wm6YadnzNt5E/8nJeLv1CEyLzUPyymL1vH38mnLYVhcjZU2hihrfbDUYISm7kZx3DUs3AV0Hh6ATVcubd5uMjz4fC9+0bUhZdw3tBkbgjbYjETxnBzoMDkTvcVEk4zC07eWD0Dm71f1U8yMRVTIiy4ZGZGmUR1mWdOIlrirHrPSv0XVSMnpPn4uwBfvQb1I8mnQchymR2Rg0dTY+aDMSr1JV+63mQ+AdnY9JEQ60HRyJEaFZiF68D006j8ebbUfDJ2kXVbXLkLTqMsJTd6pq+1ttRmBCaAYi5u9FyNyd+GKCFQNnpGLA9ES83OxL9Bxvp+r+YfjZNuCNVgMxYEoc2n85E006jIJ/6g6KQq+i1YAQvNxiGAJn78Z4qqa/2bIXHn+1DUYGLEIqRcRaVy9PqTRWWJbcGr5JZNlAiCyN8sjJUru3pxp4ckqRUFACy4rT6DklBS+1Holnmg7FX97phZ7jTPCzr8En3bzReWgUoubuQpdhMeg6woTJUbmq5fz5j/oTX+I5YoD3HJgyTlO0yV2SSpGadxG+pjy06jkDrzQbjFeaD8NLTYfguY+/RJ/JNsQsOYB+0xLwcstBeJVk/HzTQfikxxSq5m9G97FmtKSoMXj2PqStu4KuY+Lx4Re+CEjbC9Oyw1RFH4Sn3utD1XSKSldfq94nfbk8rLj2yR3++7m6DoksGwqRpVEeychSQ3ucrghJq0tJdMcxLHA5Wg+MRm+KJqMXfYWIhQcwJW4NQhbuR9qGCoQsOIAJMasRu+Q4VX/3oNekRLT+MgSjQrJgzjgFe67Wkd3iKIHNUYi0gkLEph/AQO95aPVlKD4dEo1J0QWwZJ2i6vsl2HNOYvisRWgxaBY6j7fBL207yfsCZiZvh5d1I2KWn0FCfjl8k/diqnULopadgo22d2L0BkyK2YzYTO7czmJx3y+Wiqd4HkZccnSH+5G6HnfkrkOufpZckEWWdUVkaZRHWJbcN5HFxp287fkUZarO4VTNY5HlFVOEWKgaT+JX0UnKfRv5cUju+pN3iaTGFCNxZSlRpjqUu57AUR3LHVo/yHhadvIqqu7TclLWVCKFqujcx9OUXaw6pCeuofWuLqH1lNJyaRk03s4d5QvKVYTK2xefz+vixydJxrRcGw3bC/jn3fSE8ijI8hrJkjulxzsjS60QiyzrhsjSKC5ZprvJkru53FZQGx/8xAs/+WJRP5rBQuRWa37Ekb6TEF0/JmLhp2Rc37mazZLK5ZOZn+uupOEKNczTtGe+GX7um056zqc+KW8eH9fLtM4KZ+s1bwcvk2RLeWw0Pi67HOYVNE82d5rnH/cg8RIs4Dj1CGYxzAoW8637o8Hb5RLOwwzvh+e+8d9AZNnQiCyN4ibLAJIld3N5VGSpROWGOhlJitXj1He+t8l9Mkl26pOF6BrP4yqV7KqfC6/Oz5GhU6aUx0qStNJ3JVH1rLdzfWo7OGrUZMn9PuOyWZYkSjdZVgvzFjz3R1uWvnweNu4uy+lOWW7Z5v57lvSPXhkX7orI0ghcxqoISrNJlv7W5VQFLKGIiiMfjrxcaD/coJ4/psKqh4mqmw8fHKEV3UYcVZ8Z1+9TahGm82Sl+bRfF3L9whCP43xafv7ZtmqZ8Xwq2nThnJ/z5XF+RsunTePlacdTLd+5fne0dWjr0YcjY46KH3Z4P/T2rxj2NVfhZV2PacF2kmXNayVElnVDZGkUZ2Q5O30ZyXIJEvMKndENyaEaOomz6QTOdkqEhGLyEIyJTvzYhxDejzvC0xXFbniOp08SXzW3Tb99Xv4NTF0ozz3Rm88dvXkeRvT2zYl9LcnSto5kaRNZNgAiS6PwS+oppS1YhhDrUswrKEIqVRWTKbpJpit5DfwSLu0FW0kkhUQPEhor+fWALjxMYn4xkgqKa4a5YUioG3QsZ6+7ipm2tVQNt2LL1h3VsqzXefAII7I0ilOWyzJWYLJ3CKYH2jEtIIGwYXqA1Q0e1pgWaIOXB1ODGim8b3XEKygeXsHxGD/ThLEzYjCFjuM0Gvai6qNXkFBXvEOTMHjsTEyfGYxdu/fgxg0uyJQ8y7ZgCJHlPaGZqN5y01nQzp8/h+07tmPj5s3YXM0mN9zH384mwYMtil27d8NmT0BUlAn5BasoEtqKTVu0afrzCXfCvbytX78ee/buw6XSMlWOFbeVccEIIst7oomSu12oTr28DEn3JeXl5mP50iyUFJc6x0hqqMS/Yamu90KdEVkagoRJorxRRZ+EauzRzSfUGUo5jhykL0jHxYtF2gi9fEKt4R9Fvyk/9ltvRJYGuXmdrsyEFLr7BKWcHJLlQpGl8M1EZGkQ7eqsP01oACiJLIVvMiLLfzKue+zCrXBiWS50k6VePqGW6JRBoW6ILP8JqKjUWXhVLV64DU5Klukky0JNlnr5hNrBZU6vTAq1R2RZD1xV8ztRnc+t8LoKsHArnLiBR0WWhRfVsF4+oZa4lUOhfogsDaAKnM68qjsGTbwTNwmXOfm7gvtvCLdDKZciy0ULF6LooiZL3XxCLaGCSx/fhFtQDzsiSwNwS3j1MC9D0n1JXA1fsmgJiouKnWMkNVjicivCrBciSyO4Chql0kuXsP+rr7Fz917s3rMPu3bvx849B5x8pc/uA9gh3JFde7/GoSMnYU9IRVSsDes2bMUuOm47du0XDMJlTOMr7KbjuWfP19hLn7to2tEjJ1BZcVkrwCLMOiOyNAjXpjk5HHnw8gmCl28YEYmpflFENBGDqb4mwlzNFD+NyTR+sm+sYhIxUfDAhCkBcRg1NRQjJs/C+BlRmDiTjxcdNz/BCFyumOpj5huD6QFmjBjrA7/AKBLoV1QjpxOA/uf+wnplXLg7IkuD3HT+YMu8BcvgN2seYhccRET6UUQsOlxD+pFbWeQknafVEC7cAh+jcOfxilzM32vGhS08TBwSjOBxXE0ZZzAhLBNTfOOweSv/+C8XZkoeZVswhsjSIC5Zzk/PQLjFgdSVl2HNv6ZelWDNF+qKjSmopE+NmvGuYcEI6lhxWawuj+VIWgd42zZjRnAStm3dUy1LbnzUGn94QDCKyNIg1ZElyXKWJQvJ6iVY/Evprl9HvzvVvxbeaOFfLWdof53cnkcP/mV1d24dX/Pr6cLdcB27mjJXAvuqKkyL26gjS66GS1W8togsDeKS5VznC8sSVQGtgMlNiHdCXwrfLPidOXrjb5UXvzvHfV9qxmuvkdDyaq86cM9Xg3o3j8c413y3jtPQ8t863TVOwzV8b9yX2/ipeW/4jCBPWfI/Qm0RWRpFR5bmxiRLh+s7Rcz8ugzCzN+d77thWE5Wilj41bNaXmc06ZSjica5vxOmetnOyEdFQfRpdeI6Lpr0tLdH8ovMtBdxafNwPhsdQ36Do1m9AZJfWkbjXPOobeLpNN5RTvAnzedBzf49KogsGxqRpVE8ZNlY3huuoi6XUEhS/BZGW+5VxOdWqPdz2wtIRnn8TiF+FzflU5JiaH4WKcuRBKVRrgQbS9NjCLNr+XysnHkt+SS0/Cu0Dn6DIwk2j2VbQsMErY9fdWuni5BdvfaWpEjE07rtRDzNG0/bGJ9dRnl4ucUkUNo2JW2WvMiyBpFlQyOyNEojlSVTLUslG4ool5xFWMou+NrXISBlC+IyTiCJGw5yLjvnYTmxDJ1RIMnLlnsZCSRBfoVtLC0r1ilPXraF3zGeX0Riu4jwJQcRu+wkyY6OXR7lLaAoNI8ER/NZSZh2+h675BTC5+1HXOZJWm6xiiyt2YWIXnKCtuUcyZNffUvbwbLlKJa+u9506BnFK1k74WHPtyO6521ciCwbGpGlUR4BWdop2ouniK7vhDQ8/lIH/P7Ztvj9Cx3xzAcDMcRnOcmLI8NK9XZGC6PmpyiPRBqY9hW8TBsQOv8IzCtIYtn85ksSLIlUVZdJlvY1xeg4IgK9x9pgySikZVQiVkWWJEoSMb9XfM6G6xgZtBx/eqUDuo6IRlzWaSSuukbS3osW/YIxKiyHIkyWJVfbWZQ8vyZKk/rO42m7CAuJV72rXFXTucrukqa7VOmTq/iE53F5uBFZNjQiS6M8ArK0kby4Ktx+YChe/bg3xvovQFTqTrT6YjpebzGUZLgJKaurkLz2EpJWXyQoEiwow/xNVRgyYw4+6jQeXhEOJDmKkFRwBSkk1hQSVurKcqSurVTztew5HT2HhSMt5yLmrL2qxidyVyE6liy5eSTLoTPn4Rd/eR9/eL41JkY5MHvDTQQkbsEHHUdjaMBSJK0qpeVfRBrJN2U1rYuG4/P5XmYZEgpoPasrCP5eStFuKVJW0jasom0gEvNLFCmreFwZklfSuknW6jXGjUqY7rJMFlk2ACJLozwKkSXJ0kr71Zpk+W7HUQhL24bMjdfQa0Qc/vHJMEyOKICXeS3e/8ILf36rO15uMQKTInMRnroVb7Xqix/+9u/4yxsdMTokA2Fz96PL8Eg8/X53/PW9Hug+0Yq45V+j48AgvNtiIJq1H4mn/vEpmnefjKCUbRTRUrRIzFlXhb5TEtH0i7F44cOeaNffl6rexxGcshEfdB6N0cHLkZp/Hv2nJeHl5n3xt/fa46PuYxCcvBkJVEXvOykNn/Scguea90B/71iM9ItHt5FB+JjyPPnOZ+g42AeDp5nwzmeD8dT7nWhdKTBnFtJFgiJhnWPz8CKybGhElkZpzLJUlCphcIPKZ8Mi8Yunm+Kpd3vimfd74bFnW6PjgDDELPgKEylyHBmwAOb03eg5OgqfdJkIv9hcdB0UgL+/2R7dR0XAP2Ed3uk4Ea+3GYHp5jwM8VuI19pPxAj/RWjZeRz+/HQzDJ2YSPMV4J02g9CDlmNdcV6JmmXZe5IVrft5YYTfbLzYrD/6TIpHSPIqfNRlDKbR+od7J+PVFgMwyDuN1rUab3ccirfaDcXMmFy83nww/u+1thjqk4L4zP34tN9U/Opv76P3BCsmhy3Fky+3Jkm3w8SQdAzxisfzTfpgeMAyJK6s1BqpSNgKj2P08CGybGhElkZpxLJkLDnFqvU7PrcEHYZG4E+vtsMHXSei3YAgPP1OD3zQYSJCUzZTFLlRya3dl/54q/VAvN6sL3yiHeg/KQFvth4Kb1MuxoZn4g2KHAd6z4Od7y1mFyF4ztewLj+F9j2mom3XCYicvQ9LNlahC0WOXQcHwZxxBta8S5i7vgr9JtspOqSIc/Y2dBgeg9fbjiRBxqF519GYErIUHftNQ7fhIbBmnEJyfjFFuyvwarM+6Dc6Au+1HYIuQwKRkHUa6Rsq0P5LX3zUcSzC532NpOwzeKf5QLTrNhWJmccQkbIdL33Qh0RqR+raq+rpF74HqnV90j9ODw8iy4ZGZGmUxixLVQ0von0icorQfmAY3v50KLzi8jF7TSlVv7PRsts09BwZgRafT0DTrmMxNng+Valn4B8f98CUWRnoNzEVb7YagZnWlRgakI4PvphAUWge4nMuw55fSZFbBdJWl+PTntPRjeQYR+Kcv+E6fQ9Gt6EUtS4/qxpk5qy/jr6T49Gs13QEztlLkW4RmnSdihadhqBVJ6r2By9Gx75TMczLjjS+J5lXjIgFu/AORZa9qLr9UYcR6D/RgpT8csxefQVt+4bgs/6hMGUUwbbiApq0G0XrDEFy7nmEz92Llz7uh+5j45C4qpzWz12fOLIUWQq3I7I0yiMgy3iWJdF+UDjeaj8MMxPXY97GK/jSK41kNAotvpiE99uNxIhpc7Fg5SUMnpKMVz7sjSlhGfhychpebzkU06IzqWq8Hq+0GIYOA0OQ5DgO0/LD+NJnHqZbVqFdLy98QZFrbMZ5zN0EdBowC11IzjHLzqhtmb3hBvpOSUKLXr7wTdmLxLVVmBRdgL+/1g6/feI9eIc78PmAQDTvwtHpLixYU4IB02fj2Sa9MXS6DR91Hot+VG1PKLiMlDVVaNs/HO2JmIwSxFPk/GHHCeg+PBJJ+UUInXsAz37YF5+PNZHMuSM8yVJVw0WWwu2ILI3SyKvh3HfSRpGVnarCnUhmP/7dy/jRb17GT/7wNr7/2Fto3scfgUlb0bJ3IP74amf85d3e+NXfP8ZfX2uP8aGZCEzehX80G4yfPP4Buo23ofdkM/78xqd48o32+OXTLfC397/E1JhVaNNrBi0/HObsQszfBqrmB6PjoDAS6jln16Eb6DEhCR93J1km7VL9LpMLytC6tw/+58kPMSIgE+E0/vl3u+M3TzfDX17vif/5a1t0G2dB7JK9eOuzCegzORnJay4jbeN1tOw/C837BSJ02TmYHMUUMU9E58GRJM5iBM35Cn9vQrIcJ7IU7o3I0igestSeDW88slQNGtzfkYQ5a95+TIpYgXEhS4nlmBG3FjFLjlOVtwSh87/GiJBMDPJdgsnRefBP3IioJUdgp4g0MHm76iPpS1I1ZxyBb/w6DPWZj6Ez0+GXtB22rPMIStqB4Nl7SZZ0Mq+8QsLahwASrSnzAm0HVasLKjFr/gH4Jm6maPMUjSuBlSQaOv8reNF2hC06oY59SOoOjAxcjEHeCzE5ZjVilx+D3XEOMxO20fxf0X6UwppfAr+0XfCfvQcmmsdEy58Rvx1BtH4r7UssVcunWTcieO4+db9UPQVEedTTRh7H5+FDZNnQiCwNov9DGpWNoNVUQ3sahx8ZLFMiM2UXaawogpXJ5k7dLBGKurKLEZdVDAvl0zp7a8TRd55moSo9dxq30TxWymfNKqLv2pM4nF9bp3N99J3XYaZ1qee8adiScwFWEp81hx+zpGXyOAfN4+wHyc+Pq2XRfHEkPIvjIo2j9RLaY5n06WzVjlPL4MciaX5CrZ+XSd95Oue10Ha6jkPjQWTZ0IgsDdLYZVkDSYZEVA0LkeAfq3Dl4a5G3C9T+zGMhkCTcPUTNrmFGmq8Z96GpXqdjQ6RZUMjsjRIze9ZLkdwo5blrSiZcFTnMa5hZelBLkWGHCWKLOuByLKhEVkaxSXLhRkkyyxNlrkkS1Wduzv6hfnhpiEFc/sx4yq0q6pcg968Qg23Hid3WfKz4btJllyI+fXNdCLolXHhrogsjeIeWVoykJRHwsjlX+HhnzW7O1bhnugdN0/05nvUcT8+2u+A8mObTDnJEiTLLVpkuX0PbtwQWdYHkaVRqghKcxYuQWT8csxZWQxbThnsjlIkZJci8S4kUB7+WTHhDugcMz3kOOpjpyhSwd8dZapc8o+KJFJkOYPfwROShM3b+IVlXIhviCzriMjSKM7Icu7CBRjtNRMTZyVibMhsjA9Ow8SgNEwS6s3koNm644U7w2WvhtnEHI3AOZg2awG+HBWEsVNDsHH7LlTdYFleJ1lSgfYs38I9EVneAy5X6kLMw5ROnT6J/DWrsTxvFZblr8Py3HXIzFmLLKHOZDrWIH/VFgSGmjHDLxzzF2VjBR1XJitHO76cR7idDDeW03FykeGgT2bFGmzcsheFxZeoOF+nU6CKZElXfm7lcSvnwr0RWd6Dm2RKrrZwMVNXZDanc7J6Vz3Bo4S6o9odKOXl5mPpkgwUFZWoYb28Qu1wJf7Ksrxxs4rGiyzrgsjyHmiyVMWM/rupIk2+T84neFUVSVSoN1VX+WADuY5cLE5fiqKLxWqY/17qvKbao958gidUTt24QVdzLq+q3KsPvl/JwhRR1gWR5T1Q5cqJKngMR0JueYR6wn8XSjkky/SFi1BUWKSNcE6/SSe9duLzH6JmvFAL+BirwkwDntMEQ4gs74Gqebuhl0eoJyLLfwJ07LgAiyzrjMhSePDcS5Z0omvUjBPqglxs6oPIUnjw3EOWgvBNQGRZT9yr6ELduJMs9fIKtUOvzAp1Q2RpFL2b47w8wvlRjXsWt2y34ZnvTujN25hwpZzcPKQvWoaiIq01XC+vUDtU0pugV9CEuyKyNAzNzPfNSJoaNM6VXAVQqBvOlJuTh0XpNbLUzSs0DLplXLgbIksDVDcu0PyVlVdwvrAYZy8Wqc/zF4pxkSg8X6q4eEHjgvPThWv6vfLdgiufW/7GSFFhGa5UXsfSxZlITZ6DQ18fRSGNv3C+5BYuCrWkGBfOFaGkuAxV167XiFJkWSdEloagGXleSgWr12L0ZG/0GToe/UdMxaCR0zFkxHQMZug7Dw9kRmnfPVH5CNcw59PFbR4XvHxeV+NimvocOtIbPfqNQffeo9B/yGQMHOaFAcOm3gKPGzhcMMogOrY9+o6EX0Ao9h84qGpD6hSo83nwaCOyvCc0E9+rdNa75y1ajhnhSYiYvRazUjchJHUbglN3VMPvhrkbRvPp4b6ehwG9ffAkOHU7gtN2IHTuboTP34vQObsQRt/D5u3BLPruDucRjBO56CDGhyzCVN8obNmyw/l7llpx1i/rwt0QWRqChUmflOZTVTHUnoHkvHOw5vLLtIQ7Ycu5ZBhrroYtrwz23DL1nd/JY3HUYKVhVz7hLtDx5OOVsKoKM6wbMDM4Hlu37MT1Kk2W0kpeN0SWRtECS8wjWYaQLONzL8KUU3bLL3kLt6K9kMz1o7TGsORWKPi7mV+e5ga/TM0zv6APHy/bqhuYbt1EskzANjdZ6pZv4Z6ILI3ilCVHlsEkS1seyZIiID1JCBoiyweHyLLhEVkaRWRZa4zJkvPU5HOXpVB3RJYNj8jSKCLLWhPH9x7pxLU5cb0nxuwGv1hLe+84y1WTpTWvkr7XCNNM36vJLafjrqHNL+ghsmx4RJZGEVkaht8uyI0z5qwLMC05BnP6QcQtOQxb1hnYHNorbk08nfJa8rgxqJhgaVbAlFWIuGwerhGmuyjNdMxj88oRQ/Dxd0Wl7gIW6Ng4ZTmNZOkTkoCtW6WBp76ILI0isjQMR5SJKysxISIXrXvPQPMvJqJNby8MnGpH6OzdsKy4SJFPIYmyGLb8EjqWRRRNXkJ8wVUM9s/CEP9MxCw/T1EpVcmVDFmkLGA+3m44q/B6Eeujjsiy4RFZGkVkaRiWZeqay+g4JBwvfdwTX4wIUPz5lVZo3m06IhceREI+RZCOs4jNPAlz9mmSZRFS1lzFJ9398Uk3H0QuOIJ4Oumt2STJFSTWbIYiTu5ClF1C0WcRzU/fHZSHqLn3KTBmxyWS5XWqhm9UXYekGl5/RJZGEVkaJo6q1Cmry9F5sAmfDYiGKeM0svYA3UeYSZ4DMT0uH1GL92FIwCJ0Hm1Bb68U+CZvQ9qaMrToNRPNuk1D9IKDSCRZ2kmEUenHMTlmDYJm70VSXinilp/BpMg18E/aD1s2yYEwkzg5AuVbAAL9Heh42FZVkSw3YGaIHdvcIkvd8i3cE5GlUUSWhtEiy0p8PigUrbt5IyBpB+IzT6D151PwXruRmBGXg3YDfPGXd7rhtbbD8dsXWuO9ThNgXrIfbfvMQIvu0xG18BDi88qRvOoKZti24NkPh6DnxGSkrbqEoKTdeOa9ofh8RDKScispsmRhciNRMcGfQpyjGPGrrsLbuo5kaSVZbhdZ1hORpVFElrWAZXmFZBmOZ9/oindaj8TLTXrjhXe/wMSQxeg32Ya/vt0RXYcGIiRpJXqODcXf3/0c44MX4dPePmjZYxpFkwdgz7+ExNVXMdO+FS98PAh9pyRjdkEpAuK348UPhqLnqBQkZjur6g6SBKGe8nnE4ePAjWTxK0mWFpFlQyGyNIrIshaUqfuPnQZF4oM2w9Gyyzj87dU26DcmAulritB5SBR++n9v47dPt8AfX+mAx15qg8fpc1LwUnza0xetenghOn0fEvLLkbTmBnzjdyhZ9puagnkUsYZQpPpSkwHoNToJyTmX1T1LbgCyOgTGQsRll5Isq0iWXA23kSx3SANPPRFZGkVkaRhVDafqc4cBs9BloB9SVhxCn4lWvP3pcPjb1qPHSDtebNIPo2fMgXXRPoSkrMMMcx7sS4+g9Rcz0YKq61FzdyIhuxCJeRXwT9yFp97vi66jYjGXquETw5bhiVfboffYeKTkkSy5i5GHMB5lPGXpQ7LcyrKUH9KoFyJLo1TLMotkmUmyLCJZluvK4pEnrwzJa6+gy5AIdPzSD3HLj8CceRJvt5+A1n2C4G3KR5POE/FJtymYGrUMXYbPwkdfTIV/wjoSbADeaPkl+k00YeiMuRjhvwS+9g34R6uheKXVAEwMX4pm3Sbg5399B/28Ein65EadMpGlGyLL+4PI0ii3RJYiy7uSdwn2lWUYH56L8bO4z+RxJK6txCTTOvSckILQ2XvUT7i1GRSOl1qNwjudJmM05UvIOY9JESvQrOdUvNdxPN75dDI++cIPPrYt8EnYgE96eZMwR6Dj4FB0HR6NKaa1sOSWqNZf7oOp9cXU0JNIY8d9/7lbVfwqkqVVZNlQiCyNcpssi0WWd4SfzilGAgkzeSWdyLlFiOWuLAXlSKJhu6OIxFiC1DUVSF59Camry9R4aw7Nk1eI2WuKiGLMWVWKuavLkZhfThEk5V9djDQitYC+07IS87h/5SX160/u3WYE+hvQ8bY7uw6JLBsGkaVRbpFllsjSACb+zNH6P/J3E0k0TrXUltDJXAITw91cFCRY9cmPQ2pdgFieVkexOvE5P7fwanCLL0dQfM9Yu298myyc2/Aoccv+iywbHJGlUaplmUGyXEGypBNdZGkAjjK158D5k+XoSc10fdRz5CRLJVjXPCyER1SKRuBjZltdhWk2kWVDIbI0intkaXPAxie+yLLWcHTpCd/jjMujqvQdUPOpyNNtHo/lCrfiLssZJMstIst6I7I0ilOW81RreA7i6QQ35/Iv4dxeUIXaoaSYr4nR4vysHkewTKvzOnGfX9CBZOmqhnvPsmHzth2ocsmyPufBI4zI0hA0I39SmkuRZZCVW27PwcK/nOMoIoqFOsL3JNW9ScKm3t1D4/kn25zjGO0YC7UiuwjJBVcw07IO02dZsWH7dly7cV2dAtfpH+6YLp3Ta4fI8p6wKOmL8+2OC0iWE2ZEwztiIbyilsErMgvTIlcI9cArIgte4VmYHpWthqfS8FQa5nGMyhfllle4J9MIv5gCDJsUh0kzQrFp+05Uqfq3s0g7EWEaR2RpCC5VPDOwfdsuREfbEBAcDf/gWPgFm+AfZBbqSeAsC0aOnYFhI6dhuk8EjTPRMTYrAkPiFAHBjDZOuAd0vILpmPr4hCE5eR6OHT+t3at0CtId/TIveCKyNMjN6/QPlbabxLUrl3G1shLXiCsVRPll4opQD/hvk708CwvnzMe50+dQdeUarl2+qsHf1TBR6Rwn3B3XMSOuX7tOdW8uv3SQFfplXLg7IkuDKFnyDXIVYfJI/hQaBi3l5DiweHE6iouLnGMkNUiiMnuzWpQuaLxQK0SW94QLFn1hUTplyaO4XbGqmpvEDaHO8B+GIkuS5cLFi3CRZMmHnpsjGNefwjUs3AutfGpHVRXZ6mJcfTCFWiOyNISzpN2karjz3qVK/FVB/wh1x5lyHDlYvGgxiouKnWOcibNU45xHuAvasXJ+VHPLwG1lXLgXIkvD0MzVd8Sd6ZbpQp3hvwul22QpJ3a98HSoXh7BOCLLWsGljj5d6OYRag0fS0oiS+GbjMjSABxMci3cWROXk7ih4WNJSWQpfJMRWd4Drr6oW5YMjeJFVH9xyyfUA3VQgdxskuWCRSi66GwN5/Gu4+xqtRBux/N4ukPTb1TdUOhOFwwjsrwH3KBzwwn/J+n+pVxHLpYuXHp7A4+keiXuG3yDe3K4rvhCnRBZ3hMuYE5YmlXXUVZSiqLzRSi8UIyLFAUJ9eP8hUJUVF7BwvTFSExMwaFDR1FUVILCi3x8i3GB8tSawkePi4WFt3CBKCwqQkVFpUSWDYDI0giu6g6lXTt30QmdBottLuLi0xGbsBAxQr2Isi+AOXkxpvhFYdz0WQg1pSEmkaYR0fELaPp8RHrA4+4Gz/eoEFXNfMTEz3MyB+aENITHWDFv4TKcOHVWaxGv6zkgiCwN4SbLuQvTMX7GLPjGZMI7Jh9esbmYahLqg1dsDrxicjDDUkCsxHRz3i1M4zy1ZBrP94hQc6xy4W3OgbeJyUaALQ9Dp0Rj/LRgbN62EzdUr3RKnuVbMITI0ggsSv6kNG/JcgTbliE1rwQJ+VdhK6gU6kt+hSK+gLmMhFVXbiF+5eXbWXUPVtN8jwJ8jFZeQSJD+524qlJjZQVmbwD84jfBJ9iKbVu3a/ctOamuHfwp1AaRpQHc+6Lz71n6WzJhzylBXO5laO+AEeoLv4P9TujlN/P7dwSo1wA7uWWa4xKJ9AZmWDfCJ8iKrVu2Vf9SusiybogsDXLDWc74tRJBlizYc0tJlpXVL4gS6kf1O3V00Msv3I56DS5JUqOUIszr8LGwLO3YtmWHapxUSWRZJ0SWBrnpIcv4HH5rochS+OZw6/vSNVnOsFA1PCheZNkAiCwNIrLUsNB+W/n1Dzkl6uTUqoC35tHeA6O9AldFO1Rt5tfWeuarQctnyy2HLY/hd407X5FLy+I82ntlGKpiOpevrYOnuy9bW++jGJHqy1Iiy4ZCZGmQR1uWLimRKPNKkVBQjOT8QiQV0ElJcotzaLJyycz1jnCWWXx+GRLzLyGR8vJ3JVg6mTm/RYmwVL17JyGfBJx1HtGLjyN26TH1jqOEvCKazu9nL4GJX1rGoqyWpfMVukqUFbTMcvWubBYsL9dM4lUSJVHH0XcWds3+NE7uLEsbyXJ7jSzV87v0KdQKkaVRHmFZsoRM2SWwF5QjfPEx9Jichrc7TkHX0TYEzjmg5MSvBY7NraDPSidliF9ZhpmJO9B+SAw++HwaRgQthznjPGw5JC8SmZUEmEjLtGefw+AZ8/Bhl0lo0nkM3v10BNr08YdX3Bpa7znE5JEwWcp5lbQuliKL0ylLErU5m0ToqKRPHl8MCy03jvJrIiVB51UQLM/b960xoSdLH+sGzAy2Yrt7a3h9zoNHGJGlUR7pyJKqyPkUvWUXo9ukefhH20l4u8NEPP/xAHQZHoOYxUeQtOoKCeoaYnKu0WcVUtdUIWT2HnzyxQy80Xok3m8/Gq81+xJDvRchLpOr8pUUaZYjIfcCPh8dg2c+7IVWfWZg8PQU9J1gxeutRqL7hARELjsBy0qqmq+phG0V5V9J87E0HRWw53OXmcsqYo3PpyiWxGslccfTtto5ilWRK217Hk0vqCA5szxdUXLj446yDCFZbhNZ1heRpVEecVnaSUCmrCKMi1qPKTFrkZp3Gj1HR6DF55MwLigDY0LzMDN5D5JXX4FP4i5MjCzATMt6DPdfBF/7OsQv+QrvthyAj7pOR+iicxT1VSJt3TVMicrHC836o+PIcMRQ9Tt15VUkr7yEGUmbMT1xC8mvCDEZZ9FtYhrepGi2We8gTItbhxSq2vvYdmJseA56TrbjPdqO7uPtCJt9gNaZhYnRq2neQpJkCfxTd2NUxEoELTyu3TbQ2b/GgMjy/iKyNMojLUutAYY/7RSdmZeewkzzSjTtNBKd+vnAz7IOzXr6o23/AHjH5aD1l/7oPCIGkemHKRIsRcSirzHSfz7eat4P3cfEITKzUFXVF2y8gc+Hx9K8MxCyYC8SVl+GJf8yVbmLEbeqGPbVdIyzz9CyzHit5Ui07OWD11oNw5vthyI4eT36Tk7G4693wTufjUCLXlPxlze6oNuIaHxMQv6k+wyEpR9A0spCtBsYho96BSNg/mHYKMLU38eHH5Hl/UVkaZRHXJZmR4m6H8hPh/gm7sb7VA3/+eNv4FOSZcKKU/CKXoUPO4zDEy+2xFutBsErtoCqwyWIpyr0mHAHnnrvc/z5xRYYGbBQ3VO0UFV6wcYqfDYoEJ2GhsKccVpFfdw4FMv3KPOLkby2DEMo/ystB2GgVyosS44hYu4uvN1hIPpNjkL7/oF48q0vMMJvAezLj+L9TpPxTofRFGGa8Ub7EZhkyoFp2UE8+14ftBschTharkVVxfX28eFHZHl/EVka5ZGVJbc4kygdRbDllSBxdTmiqFo8PX4HWvUNoChuAmbErcGCNRXoPMgf3//Vk2jfbxosy09QVHeZIssKRC46gslROXi9zXA07eWLoHkHYc0pV5FlV6rKN+1FkeVcGkdVa1NOEa2PW92vYMEGoM2XgXir7WAEU5U8Lb8My7ZWocNQb3QYPA0ffzEZ73WeiFkpe7CY8nYYGo03PxsKv8TV+LjnFPSfYcfIwDl4u81QTIzMRfyqClq23j42DkSW9xeRpVEeZVk6KKJcU4nA+V9jSFAW/NN2IWsf4GPJRdMu4zAlIhN+9vVo+vkE/OKJ1/FO20GIXLAbE6NWY+D0JbAtO4m8PUBbqp4/93F/TLOsh52WnbbmGqaa8/HkO13RfnAIkvNOY8H6cizadBUBSbswPXYtPiVZvtp8IGZa1mDJpios2XwZzXtOQNehgWjd2xvvdRpLVfI9WLgOaD8kCq+RWINmb0Uvr2R81G0CXmzaCz3Hm2BznHU28OjtY+NAX5YbMTPYJq3hDYDI0ii3yDKTZMmdphu/LLkTuoWq4EmrLyN80TG07h+G19uNQPuhQXi99UA0+3wSSS0fn/Tww4edp2HY1CQ0+WwM+k6Kx9iQ5Xiz9Th80GEyOg4Ipqp4D7QiYYYv+IrkdQnxVO2Od5xDt7EmPPdRL3zSdTy6j4xA5yHBeP7DvvhsYCh8zKvRtJsP3m4/Ad3H2NGs+0y8/El/TI/IRqdBYXib1hWQuB3z1t5E2wFReLnVMMxM3oqgOfvxxFvd8b9PN8NkUz5SKPJl8evtY2Ph7rLcIbKsJyJLozyysnSehHmliM8tgm/SZnwxPgYf9piINlTt9olfj9D5BzE4IAtTYjciKesCpsWsxujgTETM26t+wu6zQSH4pNs09JiYgMDZu0i+F9UJbcspo2WWwbz8NKbE5OGLUVFoQdXnlr2notdEC/wTtyIpv5jEt5uEalXSbPdlCCaFZSN+2WlMCl+FYQHLELHoMBILLmN85FoMmrkYs6jab80tRf9p6eg3dQ4ilhxV90lNbvvVGLmzLO0iywZAZGmUR1SWGhyR8aOHxbAVXEJM1jmqkn+FsKVHYFtZAjOJNIZOUH6SxuYoR1xWCaKXnUOc4wLseYUIW3RU3aeMIZFaCqgqTCLjH3uw8pM/jkp1fzI+rwKxy84iZN5XmEXLNmedQTyJ0lZArCxFdMZpBM89gGgSXzxth51Ea1peiNiMC7SMIvWEjnlFEa37PG0HD5fAuoKEvKKc1sN/q1L15I/+/jUORJb3F5GlQWoed8xyu2d5meD7YI0dOhn5aRl+7JAfG8y/TNKjfc8nYXHEll8OM3f5ySfh5fATNlTl5SdteBoJip+eseVX0nAlYpwt3tWyJMGacito2fyUDf++5WWSJ1eZeRqtM68YsbQcXr7225ckYxYjT6d54mh9nJeH+ekefr5ce9yRhJxH8+ReIYFr+6DJkr83NjxlWUpwY1yV1sCjZLlTZFlPRJYGuXmdZ3aXJRfQKwSfrI0Z18nIreKlVJUlQTqnmZ3wsAsedp/mviztkUgeT2JTJ/Wd82qQBEl6pjxeJ7dk6+XxxCUQbdhC62BqxtdMaxzw/txJltecsoz3kCWVZZ0yLtwdkaVBXLJcsCgLwXGPoixd6OUxRo0U+Qc1mNvz3E5jk1tDY0SWCSLLBkBkaRB3WYbEZSKBoixL7lWCqo+NGq7WMlzNZfTy1BbXMvWm3QVdWTzqGJXlbpFlPRFZGsVZzhaSLMMt2UjOq4S1ALAVVDm5Jtxv8q/CKnhwhbissBH2PKaSqEDyOmBm/FbMDEnGNpFlvRFZ1gZKc+YtxoTpkfCLWYYZ0ZmYHpOBaYosYoVQR6YTvtY8zLTkw9vkwMy4XPjS91uIo+k0XvAkR+Fr1vAzO4hsBMcXYNiUWEyYHIQtm3eg+u2O9T0PHlFElrWB0uYt2xBrjUdYjAXhMTZEmOi7OcFJIpEk1IFoWxqmzAzFOK8ABEXaEGlJUUTEuZOMcLNwJyJMGpGmJCIRUXGJCAyJRErqPBw/fkp7bzgl9alXvoW7IrKsDZSuXLmC4uJiFBYWorCoSGggLtNxXbxkCZJTU3Dw0EFcLLyIi0WFt0LjLly8INyBi0Shk4sX6PgRF85fQGlpKaqqqrTiT/8wuuVbuCsiS6PwvJLuT3Ie25zsHCxNX4aSwhJthGfifMLduUOZVbcpnUhkWTdElkbheV04x3GhE+rPDRXqAA6HA4sWLaaovYgm3J5PuDu3lFc3XO+9d0cvn3B3RJZG4Xk94ALquloLdec6/0Mpm2SZTrK8SLLkMZ75hLsjEry/iCyNwvN64HllF+qGXmTJY/TyCndBr9wKDYbI0ig8ryd6+YRa4+rwz7JcnL4YRRe1arheXkF4UIgsjeISpDt6+YRaI7IUHgZElkZxCdIdvXxCrRFZCg8DIkujaOez9umC77XxE2SeUH73lkfh7txwyTI7B4sWLkZxYbEa1ssr1A5X2b1lWKgTIksj8Hxc4KqcBU7SfUm5OblYtjQTJSWXnGMkNVSSBqD6I7I0Cs9Lac/eA4hPmI0YUwLirMmw2pJgsybAZkug79onY7ELRrDypy0eCUkpmDptBsaMn4SwqJiaaUKtcS+HsbFxWLx4OU6fOacV4PqcA484IkujOGW5gAqeb6gd5tTViE7dgIiUdbcQnirUijQ6bmnrEUbHLjhxJUKSVtH3tUIDED13CyYHpWJGYAS2bN+BKuevDkmEWTdElkZQ9yE1W85btBzBlsVIcpyH3VEKe14x7PxOGIa+25xYBUPY+D07+SWw5BYhLucirPRpofEK/i7UmYQ1V+BtXQvvYAs2b6uRpSrKeuVcuCsiSyM4G204zV2cgQBrJuw5lTA5rhL8Xm0N/m7KKUWsYBz12ohLiHGUIHpFEX0Wq+8a/F2oK5ZVVzHFuh7TQuzYtHWnyLKeiCyNwGVMK2eYuygDgbYs9c5r7bUS7q9ceIhxuF4idnf417h1568PdJGJyzYA59ObX9AlYc0Niiw3wSckEVu378L1G1VUgm+SLOlE0Cvnwl0RWRrBTZbz0jMQQpEly9IssmwY7iBLi/oscULfRZa1QpPlZswITsI2JctrqiCLLOuGyNIIj5gsbTll6tMlKh5vIVEx2jvEPeY1jHa7gl9Vy7iW5Vq2EnI2jV+hrdfK8ziFaXPm4/lvX2794AvAfbkIPGBYljNIljODk7Ft225cvy6RZX0QWRrhEZKljbA7ytSnjWRmz9W+80uwLE55apLzlBZNz+FpjDaO39PtwjWOX3qmprlxS0RLw7zOhNwK2J3SVi/iou9KmAS/pMt92bwM1/I1tPeIu+e5dfqtNH5ZUmS5jSJLJcsbIss6IrI0wiMgS01I5SSnMvgmHkC/aYvRcUQCuoyejYlRm2Fadp6mF1NehkVZoiSlvUeclkFCsuVyq3YxyYkiQBo2OYkl+THxq67Ay74bXvF7EEvSNeex6Pgd4oxTlPkVCEo7hNHBBQhMOQAb5bPTsY5YchaTTFsRPO8YrLmVtFxaZl6pBguY1mNxStxMwyaSbWxeGWK48Yjg/DzeXaxKqERcbjltO7+at2ZaY0CT5SaSZaJTllyIWZb0ya08emVduCMiSyM8ArJkyVhpn2wkls+Gx+AXz7TAk+/0xN/e641fPtUCzXv5Izz9COILKlR12EbS5EjPnFOJhNVVmBizAT0npGBG4jaSIEkrr4KkRtFh3hUlN0tBORLXXUXzfiHoNDwapuzzMNM4rlZz1Mh5Wdaz199E/xnz8L3fPo/3OwxC9IL9SF59Hb6pO/Bu10kY4r8M8bS8OAfLlsScTxEtSVGJ0lGoZB1H0jazzEnaSqa0nTZavo22NZbEbM6jbSYp22k6R8P82lhXZKtFrYzn8Xn4EFk2LCJLIzwSsiyGNb9E9XlsOyQUb7UfioCEdVi09hK6kzxfbToUE8LzkZRfjOjFh+EXvx5hs3fBllWENIoYe4y14R/N+mHwzNmIWXYMqQXFsC8/gaCk7QimfNbsk5i9phCf9puJniPDEDlvJwJnb0fM0kMkrUKSJQuvHHM2gJYxF0+/2x6PPfshBnqlIG3NdfinkCw7jcdQv+VIJlnaV5xD2Pyd8E/eiOj0rxGffRHxjiKYl52GddlxtW2RC7+iiPgYLFknEL3wAIISt8K85CgSHecQOWc3QpK2Im7ZCSSSXOPpGNhIpHEsUxJl45UlFWnule5ZxoV7IrI0wh1kaWp0sqSqLEVmrQcE4/U2/eFry8WcnFPo/GUw3mg+HFNj1mB4QBZe+HgY/vjCZ/i/FzuiH0eT5rV46cMv8f9+9jR+/1xbDPZZgCkR2fig3VjK0x6/fLoNmnw+DeFzt6LroAA891ZXPP9+H/zP35rimQ96YlJ0HkWgWvQ3m/5UPSfa0a7PZHzYYRQ+6TIZIWkHSLg78UGX8RgfuoIkfAqtegTiTy93xh9fbo+n3u6BUf6LSZKH0aZvEJ56qwf++HwH9B1nQ/dR0Xi91WA836Q/fvN0W7zefBCad5mEZyjPr59qiaZf0HbN2Yck+ntas7k7GMuSq/Ke92QfPmpkmeCUJRdmKtIiyzohsjQCi5I/KXE/yyCbU5a5jUmWVA3ll/NT9bTLiBj86A+v4vu/fxnf++WL+Oljb6Db8CiK2o4iiKQVaN+A9JzTmOAzB627T0WgLQ99x5CUmvTBeL+FCE7YhNdbDkeLrlNhS9+L0NRt+HRwFMaFZaJp13F44d1umB6ZjcTMr9Ds87HoSsu2ZhWSMCsxR8nSila9psA7OhuvfDIYbfuFYaZtNT7sOgFTojLQfWQ4mrQbhxD7RqQ5jqPz4EC89DFJd9ZcvNqsN15r3huh9nVYmHsG7ftOwxOvtcKUMAdi5u7B029/hhfe64jwxA2YEZNFsu6GQd5zMXftVVVN1xqGuApf01D1sCKybFhElkZ4BGRpcVbDrXklaD84As+TRPpNsmJ6zCp80nk63mg5AlNIXpNiMvDRFxPwWqtBeOrN9ni2SSd4xSxD/0l2vNliJHxMazE2KAMfdBqLcYFZSFhRgTiO2Kham7yqAq37TEfHAX4wLTqGxRuvocsQP3QeFAjT0tMkq3LMXncDfSZa0LL7ZERRVXqEzyK8RuLtMzoWrbvNwITAdHzaxxtDpiRjbn4xRYQXEZRMcm4+EH1GhODDz0ag70QT5hYUIn1VOckyBO2+9EccL3/FabzZfhg+GxxAVfHTFFHuwgsf9UHP8SakFHD3JZYlV8H50UsepuPyEOH5NxVZNiwiSyM8MrLkRp5SfDowEu+3G4UA+3os2VQFX8t6tOvrj3a9vNGEZPP58GCS226MDU5Dkw5DMTVqGYnVjrdajYBv7CqS5HJ89PkkjA7JQNyKQpiyi9Tyk1eWo23v6fh8SDBFqWexaBPwBVXLO3/pi5jFx7UGnnXX8SVVw1t180JAwmakr6skmUbhzU964r0W3TApMI2q4FPRZ4IVKTnnkZpXjNDkrXjjk/7oPSQQzTqMxMDJFsxeWYQFqy/jsy/D0b5/CGKXkCwdF/Bup3G0/aFIyjmFsNnb8OLHvdF9bCySWZY5V5yRJW9vCeX/5qMap7iRiuBtrukGVYr41dcx3UIRdJANW7dud7tnyf8ItUVkaYRHpBpuya9EXF4Z2g0OxytNe2OEbzKCE9eiRXdvvNV6JLoODMXHn41DrzERiFywFe0H+FC1liLLiGWUdwFeoehuAEWjAdZVeKvNMLzXcSxFfeswNTYHzXoFYVRAJtr2mEZV+nDELT+LxZuBzweHoFP/AJLZCVr/JaRtuIZ+k5PQoscM+CVuQdqqSwidvRtPv9kJP//jP+AduRy9J1jwSquhGDdrMaLn70TLHj54o9kgTAtbhI86jceXUxOQtqYY89ddwaf9I9FuQChil52iyLUI73aegs9HRCKJquhhc3bgxab90G1cHBJXckR5GbH0d+VWdnXxcErom4wmSHc8ZGklWQZbRZYNgMjSCB6yDCZZJvBJRbJsDK2mjIqoCq4ibuVldJuYiB8//g6+9ZO/4Vs/fRq/ea41hvgsQApVeftMSsH/PtUK//mHD/DYS5/h7bYjMTliBWKXHsRHPb3w3d+/jg5Dw+BtzqHq80D84LHX8d1fvYp3O05GxLy96DAwHF2HmxGz/DTmbrqBjsNM6DA4BlFLTlJVvRTJJLjeXvPRom8YZibvVK3zaWsrqGqehL+90RtjAzNhzzyNj3vMxA8ffx/f+eUreOzFDrQN2bBnHMF7XbzRZ/pcJK4qQcqaSrQdbEa7obGIXHaSItxCvPd5ALqOtsOecwFBVM1/scUodJuQDPtK7rdZiRh1EdT6a+odp28mettbI0tvkWWDILKsDZRcskzM1boOcafrWwvpw4N2f46rnSx+jTiShcVRTNXkU1Q1PoaYpcdgXnFOdSCPJaKzL8B/7j74pOxExJIjMNG0WIrYzCSbqJyzCM08hogVZxGXX4TojFPwS92JoHkHELPioup7aVpRiqisYkRSBBtFkWz0ihKYaJhboVUfSAdth3rckftL8jppHtqu+LxSWLPOwbriPF2oymCjPLPmHKLocw8i049SlbSQqqTFiM28SOug7aF9s3DndcoXlXVe9bU007A5k5ZLWGh93FczaskZRC+/QOvQZBnLeXIowlaNPZfV3/ibDW+ja5srCK1Fn/++IsuGRWRpFJ6XkpKllWWpnXwPsyxdVbYaODohUXEDR24hYldcQEwWiSS7CCYSkYmqpiZuJSZpcn6uBpqzSYIkqjgSpva8N0Vm2fxkTwliKH+0o0jJlKM1C4mPG3FYUrwcFrB6Tpyf9+bHKGm8mT7VtvDxJUGqDu4kMhvNn5BbjHhaJj9+ackmOWRfprwVWn5ahno0k+fj/pYkWxaihS8CNMz7xcM8bwKN436d6okhGuZHOXm62jfeL5K2laRtcXAH/G86vJ0aLklq3C2ypMKsV8aFuyKyNAoXMErzSJYh1izVkVmLxmrkcydqZPQNQ4nCCQ1b6QTje3VmfmRRiYr2keXJjQi0n4zaJ6dsWEwsMZYmP0fO/SStHOFwdEjLZGHGEjXHiJ/U0eZTj0vyby7SfFqHdFq3qv5yRMmCZHheErSSKOWl/NygwdvNEShHUtoji9xyTcuh8fxpUXk4WuXl0ThaloX2h+/psRj5ySO1P7xunofzsSgJzmNTy2JhPlzw39RV5njfE0iW3pYN8FENPDvcZEkF2rN8C/dEZGkImpELGCXulD6LIsvkPD6puQrrOrHvAp/M33g0UWiC0jpla/vmkoiWz/1k1PZLm09DewpHO2md++6O+zxqPe7r0oZNJGgTi5q+a1Euc+v8vP5btrF6ue7w/DReze/EuZ3Vy3XmrVmP+754Lu+bDx+j6uNC+xC/ugreFFn6BMeTLHeKLOuJyNIo1bJcjlBLBpJzuOpZqlUnGwVuJ5ruePdx7txruh583PgX0pkaQfJz3DEKikid+Wq/bBfu87mW48ndprumPTzwcYythqLwtdfgZV8P7xA7tpEsb4gs64XI0hA1keUCkmW0LRNpeYWq2mnPu4z43CtCLeEf2LDpYM3X4O9683liz7lM1eZKqlpXqld92HMrdfM1VtyPo+vYMZb8y0hYB3jbt8JnVgK2b9+FGze0MiyyrBsiS6M471kuXLQcYeZ0pGSdhi3rPKwZJ2EXas/yk4h34hpnW34CNv50Tk9w4srnjvs8/MMZNjdc0x41bJknYSUs/JlxAsm5RZgRnQPvwDjnayW4IFNxFlnWCZGlUTRXIjd/Nbz9YjBhhg3jvC30GYuJQu3xjsUkJxOm0/H0NmHQmEAMGO2P0dOiMI7y8LEd7/ysPs6UX+EcnuCaf7rzu9u0R40JPnS8GP5OTJoZh6Fj/RAUbsL+rw/R9V4rxOpTr4wLd0VkaYCb12/iBv/KNF2Rq6puouzyDZRXXkVlZQUqK5hKoZ5wysrKwpx5c3HyzGlUXLmM8suViorK29FbxiMPHxcnruNUTuMvX71G0aTzaq9TvgVjiCwNcPPGTUJ9UbVxZ7GT1MDJscKBRQsXobio2DlGUr2Tq8zzZx3Lv6AhsjQKzaukeZ0GaVi193DDj3seoU7wceXkcJAs0xehqLBIDevlFeqASLJBEFnWEpakJkqhoRBZCg8DIkvhgSOyFB4GRJbCA0dkKTwMiCyFB47IUngYEFkKDxyRpfAwILIUHjzXnbLMdsrS1XVIL68gPCBElsL9x3Xc+VPzopbU8A3crLqmBnOyV2Dh/HkovHCB8tMM/MMPrs7UnJxPnnAkyl24pGeC8M9EZCncJ1hsTvi4OxP/mENZWQXOnDuPw0ePYPeeXdi4eSM2b9uCWLMJoaGhcGQ5sGnDRmzbug179+zBsSNHKNosxNVrmlR5eSxJ1+L11y8IDYvIUmh4+Dhz6AeWWxUFiNdwqawMJ0+dxcZte5E4NwOTfaMxcKw/+o3yRd+Rfug9wg/9Rgdi0IRZ6DMyAD2H+qH/iAAMGumP0RODER2XhhX567Hnq8M4d7EIl69cdT7rzMaklSpz0qAg3CdElkLDwsfYmW6SMM+dP4vV6zfDmrIIUwOsGDY5BmP958DPUoDw2TsQt/Qwkh1nkZJTqH4lJyW/mChBIn23ZZ6BefEhhKZtxZTI5Rg2w45h06LgH52K+ctysfurr3H56hXnuviRVFo5r7826O2DIOggshTqTfW9Q+f9Rf7RhorycuzedwDB0Tb0Hj4DY/zSEDlvDxJzipCUV4EEws6vp8ghHEwlLEScgl8xfAX8Hm9+TYWNX1CWX4qk1ZeQmHce/vZ16DEiBEMmBWJp3iqcOX8BVdeqlCxrLUy3/RCEuyGyFOqN6/6hKx05fgKJaYsw1jsSU8MWwLT4AJLyL8Gefw3m3CqY1FsJ+U2E2isdXK9yqH4fkBN+uZg1u1ShXsqVS/LMu4b4/CuIzyFpJq7GiBlmzAgxo2D1BlRUVGgb4C7De+GxL4JwJ0SWQv2gY6p+WIS+ctq7/2t4B1swfEYiIhZ+jcT8MvXWRX4/D7/gjV9rq73ojYe1d+lo0nS920fD/cVqcSRN91e8cn5+cVkCzZtK1fWpocsxZKwflmdmUURbpm2Ic9vuifu+CMJdEFkK9cJZ81Zp97798J1lglf4fJiXH1VvbdQkp2F2g8XH7/b2lKQ+ruVosmSBatEnVc/pe3JeESJS12HC9DDMn78EpSWl2ga5S/FO6OyTIOghshR0UVVr/tFjj/HuVN8fpHTo8HGERNnhG70ACY4TsBVcQqwSYo0sb4XF53yzImHmV9iyBFmw9N0lRRVZOmWpvT3SKUsnnI/nSSkoRfTszRg3NQLZ2atwvYo3kpJLinfCY58E4U6ILIU7cuP6DSWd6ujR/fjRdyVLSmVl5bAmzsVk/3iY0ver19zG8psvlcz0RMlosjTn8HvBi0mW/G7ycti40Yer7Xll6lN9p3GW3ArnJw/XTGP4/eFxjstIpGp9sH01vPzN2L5zr9q2aineCbf9FYS70ehlmUGyXC+yrBt0vK5duYZzZ88rrl65SiOdyXUsKW3ZvgtBMbMROXsr4vm1rCRJE8lPq0LriZJxRZYkSiJ+ZSWCFxzFuMi1CJl/FLZ8lqYWPWqCrBFljSw5quRIk6VbSd+vINFxEUOn22BPW4CKinJtA11i1MNznwXhDjR6WWYuz6yRpaRap5LiEqSlzIavjx8WL1qMg18fxKXSS9Uv7Oe0PDMXvpFLYFp6UkWGXKXmaFGToVaFvl2UJFISa1xuEeW/iDkbr2Cw/xI83aQ/hvovRUJBGS2LZMjVc27goe/VsEAVXHV3VuP5Xd/0GZ9fiumWdfAPj8fhQwe1DdSTpAu9ciMIOjR6WS5ZtAQ5OTlUVSxTJznf/G8oSoqNoTfvPwu97dFDb97LlZdx8tRJBAcF4+MPP0bzps0xfNgImE1m9aMXhw8fxqkTx5GcshABMdmwLL+g+k2yLM2OIpIYC5PlpidLLaq0ktzsBSVYsu0GRgYswXPv9cSYwKWYu/YakldWqXeBW7M1uWqt55osNZz3PHMpOmXp5hTBlleK6CXH4DPLjh3bt2qFQE+SLvTKjSDo0Pgjy4xMWMwWLF28jMS5VMmzoVicvhiLjEARmd78/wxqt418fGpYvjQD8+bMw7ix49CmVRsly48/+gRN3m+CVi1aYty48bBbLQgNMyHEmg97VpFqoeb7j2YVWd6pKq7JMmFlBQIXHsXQkCyMC05Hqy/G4/Gn3kObbpMwxHchhgRkImj2AdhUlZ4ETFVvRptfE6gmTIKjVJKvhfLaHecxM9SOLZs3aoWAy4KeKBnPMiMId6DRy/LY0WPIceQoaWZlZgl3YEXWCiL7FhzZOUhfuAjjx01Aq+YtVXTZ9JOm+Kz9Zxg2ZBiiIqKQmpyEgMAIBJlzSJaFbpGlJjhNarfLkqenrruGsdGb8Urb8Xj2/U7441Ov479/9jv84ak38ee3OuDvzfpgdMRS2PPOq/wmni+nQt2fjFNwx3aXfJ3Vcu7MvuICZs6KJ1luUmVAPabO5UFkKdSDxi1LPhkk1SuVlJCkYk3o1KETevfqjRneMzB/7nwc/PqQai2vKL+ElLSFmBG5HHHLz8OmBMZSY4Hxd5fQauAuQHwv0k5V6qglp+GXvAMR87ah9+gwPPNqK/QcFQbf5A3wSd6EyKUHScAXnbKkanj1sl1oVXKunlvyylUH+LC5B1RkuXv3Tm0n3MuDJ+7lRRDuQuOWJcHdW7j7i+oCc51/B7HhuEHLNARJRW/+fwa8bt1t8kDlp2PlDie+d5mfl4/58+ZTpLZFDWu/9lOTsnNWwTcqHeYlR9Tz3tUdz/k57zvI0tVnkluz7XmlWLq9CqP8FuKZt7tjROASijorkVBQTqKkCJVEyS3s7rgkWSNLrZU8Ma8Ek2YtR0hkAk6ePKFtoLscPdEpM4KgR6OWZXXHaqcI9PLUB01G9+Z+rNsovG69bfJE/RCG57w0/trVa9qPVLgL0iUa56h9+w8iNHYOguyrYc2mqngu/ygGSZLxEGUNWlToeuxx3oarGBOUgXfaTcSYWbkkUK5Wa2L1FKMuJGaOam1Lj2DQuDDMXrAU15w/KnzL9nqis9+CoEejl6UrwrpfsjTEA5al7jZ5oD8vfbJQPBONc0mY043rwPwFWRjnY0f4vL1I4F8J4kiv+pluPZyy5AiTf4Uo/xLC5n2F6XEbEJHOj0ryvPcWpXZ/tBg2EnNqTil8IpYhONKGI0ePqm27RYx6eOyzINyJRl8NFwxSG5E4p6uLgLO7Jf+wb5x9IaaFzEX0gj0kzGJY87ixh4TH6ArTBYu1BPEUTSZR1dtOstUec7w7qvO7agkvhT3rLAJNuZjiY8LWHbu1jXLb1jviuW+CcAdEloJGnUVCkSl/Ujp58gyiY1MxZoYdoXN3w6aq0tzyzXLTEyaP0+41VsOiJPTkyKh7lirq5Jb2S7BRRGrKOoWpUcsxbno0cvM24Mplqn67tt9znzy5ZV8E4c6ILAWNeohEVeOdEebhI8dhT1qAyX5mTI3OQNSyI7AXUDWZpGYmwZmqxekSXilJslRVu63q0wlN1+5Z8mOOlDeP+1lqWPhn31ZS/vxiBM7ejgmBCfAJicOa9Ttw9UqV2va7dhdyx2NfBOFOiCyFBoLMw/KhVH6pFDnZDngHxmBcQDwC4gsQm3GEIsZimKhqzr9GpLoBsfxUNZplqAlRg7sBVdD4Sg2ONEm2cSRJ26oKkmQRItL3koyXYpyvGRZbMr7++hCu03ZwOxRviv42CkLdEVkKDYdTlpyuX68igR3E/PRlCI5JoegvCePDl8I/dQdiM0/BlluknuOOpwjRXsBRIlWpC8oQTzK0F1RQJMpdhyqQTMOJK0thc5xHePpX8LKuwtiQBZgWlopo6xwUrFyHS5e0H/x1iVI13OttnyDUA5Gl0HBUS4qNRZ+Url6rwqGjJ7B4eR5CYlLhFZSEKUFz4BW2GN7RWQiwrURoykaEpW1FzMK9MKUfQMScXTRuG0ISNyLQmg+fqGXwmjUPUwOT4R2SgLiUxVi7aSeKii9V+5lXWf2SR169+3YJQgMgshQaGM1UN2nAvW/mDRp/4UIxtm7eg8zMlZi3MBtJqcthsi1AhGkOwmLTMM03FpOmR8GXhBgWPRuxcQtgT1yK2XMysWRpLlat2oSvDx5DZaX2RkdOvAZ1e9IpSRciS6GhEVkK9wFuISddUqjHaPXiWxM/WVRZVokzp87h0NeHcfjQUdhs8YiIjMHatRtw4MDXOHHsJEoKS1B1xdm67UosQ6cUGZGl8M9AZCncf0he1bjG6ST+wZNlS5epRypvSc75WID8M5qMe5VbD5Gl0NCILIX7DJuLPl3o5iEo8W9kpi9IR+HFQm2ER34WID8tJLIUHgQiS+G+oIntzs+d3wLJjZPD4cBCJcsibYRHPrVMDyneCZGl0NCILIX7Ql1lmb4wHUWFIkvhm4fIUrhvsLAMSYvkxsmILI3iOa8g1BeRpfDgMShLQXiQiCyFB4/IUngIEFkKDx6RpfAQILIUHjwiS+EhQGQpPHhElsJDgMhSePCILIWHAJGl8OARWQoPASJL4cEjshQeAkSWwoNHZCk8BIgshQePyFJ4CBBZCg8ekaXwECCyFB4I6p3j/D8P30GWKo/HfILwoBBZCg8EFqFLmK7EP/67dMlSlBSXqGH1WgqdeQXhQSCyFB4o165cw759+7Fxw0aYYk0ICw3DiqxsbNu6nSLMYk2mOvMJwj8bkaXwQFBRJaXrVTdgt8Wj2+fd0LFDJ3Tq2BkdPusA35m+OHrkqMojwhS+CYgshQeCexU8NycXPbr3RItmLdGqZSt88vHHiDPHobRUex+43vyC8M9GZCk8WCgVFhYi0D8QrVq0QtNPmqJzp85wZOfWCFVvPkH4JyOyFB4szuhy/rwFVAXvhPffex8TJ0zCoYOHtQl68wjCA0BkKTx4KG3ZsgWDBg7Ch00+RFJiEi5XXtYm6OUXhAeAyLJOUDik0Jsm1BpKF89fhNeUaej+RQ+sX7dBG6mXV6gHrnIrZbcuiCxrDRU0+l9Sw6f5c9JhjrHjzKlzzjGSGjRxv1X3t7qJNGuFyPIeqH7RiptaJ2lKZ0+fxaYt27F2w2ZiE7HR+elkPY0XDLOOjuPWbbuRnDIPVnsS8gpWq3Fr1m0S6sna9Vuwcs1G7N13EBXllapA3xRZ1gmR5T2okSWPoIJ2/TqsliQMHzcD00OS4BUyG1NvI02oFdpxmxiQjPH+ier7tFlz1bEV6g4fW5+IeRg5JRxR5jScOH6GyjCXYnaliLK2iCwNcIMK1vWb12ngOsmyCiGhMRjlbYJ16WFYlp+DuZqzTs4Qp4VaYFKcgjnjNOIyzggNAB/LpLzz8IvLRYx9CY4cOa1EySX5hk45F+6OyNIAfBWuluWNKswKjcMY3zTYc4phy7sCazWXiQqinLhElD7i8DHw5M7TLLmliMspQVyu0BCYicQ1FZgZvx5R8Rk4TLLkgLKKi7VOORfujsjSAOzJm6p0UUmjgVnhZoz2mwOLo5hO8HI6wT0pExSXCBagO3ebpgfnE+qCmUhcfYVkuRlRCZk4cvSEuu8ukWXdEFka4OZ1kiTDiUpZaLgJY/znwkpRkL4sBcbiuNs4lzBvx6I+3YXJeW9djnBvzETiqquYad+M6IQMkWU9EVkaQJMlfed0U5Pl3SNLIc5RBks2fWbTJw/zcSJRsiytSph3kmUp5aFqOn9ydVJkWWeULFdew0zbZsRQNfzIEZIl/SeyrBsiSwPcJsuwWIz2nS2yvA2WmhMHic9RQtK7BFteGez55YgvqICNpt1ZliTJ3DLE0zQbHdu4nCKChcnT3IXp+d19WHAhsmxYRJYGuFWWNzGLZDlKyVKq4TXcKj8zX0hyLiBs4RH4JOzEVMtGeNu3IXrRKRJhGcx03EwEf2rzcgSpNUzMmn8MkQuOwZZdqKJLs2r44XwVWoRK8rXQPBZaTs06RZieiCwbFpGlUUSWBmBhaQKzcY8AkmWz3j74wR/fxk+fbIb/9+t38H+vdsa4qBzYV1XCvvIq7NyLgMWZTVEkRaOpa66hVd9gtB8QipilJ2HJI/GSMK0kTBtFnRbCnE+feVRNp3ks6r6xyFIPkWXDIrI0isiyFlA1Oo+q3LlF+KjrZHzSeRzCk7fDNP8APuwwGi37+CB88WE6kS8hPuMCYtIPw5x1gqrpxZi97ipa9PDGp319EbvkhCZHB0WWWRdhIyxUNY+m5Zod9D37HP0NLtD6uKousvREZNmwiCyNIrKsFba8SpJlMclyGlp080b0vENYvhkYMMmOlj2nImz+Dkwz5eHpN3vjWz96Fn96ozMmxeZg/voytOo2He17+cJEsuSoM3HlZfgn7EKHIXGYGLsWiesuI2DefnQaZcWEmDWwU6Sptw2POiLLhkVkaRSRZa2w5VeqaviHn0/EG636Y0zIYgz2n4+n3u+J7qOiMCViGd5pNRjdB/ggKikXHfp74+32wxCQuAptuk9Eh74+MC0jWZJ0k1dfwfSY1Xjn0/EYEbwMqRuuwC91O97v4oWh/suRWKC/DY86IsuGRWRpFJFlreDIMjGvGC1Ilj//w6v4r9+8jH//xVNo1mMCkhwn0G+cHa9/2BMd+k1Br7HB+KjLMPzuxeYYNGMOWn8xDe37+CNm2WnE5V9F0qoqeMfk4912wzEyaAlS1l8lWW7FB10mYFjgEhJChe42POqILBsWkaVRRJa1gmUZn1OIZl0moX33SfCOXIq32wzEZwP9kZp7Ft1HxFFkORDdRsxCr3Ex6D42An0mWzBrzj588sVMtO4TiJglZ6gafgXJqyiyjC3A++1HY1TQYpIlVctTN+GDzmMwgoaTV1fSOkWYnogsGxaRpVE8ZelHspQneO6IumfpKETTz6ehbQ9vJGYdweDps/Hc+/0wJWwFRvoswDtth2FyyEKkrzyFgPh8DA9YgMiFR/BxN1+06uWDmLn7YV12BvHZ5xCcuIHyD6dlJGH+xkv4cqodf3uzI0YFL3HKUn87HmVElg2LyNIot8kylWQpndLvBMvS6ijGh5/7okWvIEQtPoK0gvNo29sHn3SYjBDrOnT6MhCPP98WT7/RFX96sR3afxmAhGXH8VnfIPzksdfx6yc/wC+f+AhPv9MTvnHZ6D48mPK1xF/f7o5n3umOp9/+AmNDs5C4itfJ3Ydu345HGZFlwyKyNIj6OUtON4HQMBNG+6YqGYgs9eFHHPmxxfD5hylaPArLikLYc4oQs/QoZs39CqaMsxR5XoCXZRMG+CzGFPM6mDJPw5ZbisjFx+CftJVO8vWYaV8Lv+RtiCGJxmWexISIfAzxX4agObsRln4Q0bQcS54mBr3teJQRWTYsIkuDeMpyDMnS5igSWd4B1xM2CereZTmsWaWwreD+l1RlJiGa+FHGPL6NUUoXHe5wfglW7gLEnc3VT7aVqefD7TmFSMwtUcuw5PDP31H1nvLZcmgc5bNzfnl+XBdNllfdZHlSZFkPRJYGYFHeJkuqhtvohOdO09qJKtwGPx9On0qc2TTMOCpgIjnG5BQjNreYTmj+lSEtEuXO5yaSII8zO2hYzUMipfE8v2kFC6CSKKNpxTStWAmVnz+/bd2COk6Jq65QdL6JZJlJsjxVXaxVeRZqhcjSAFyw+EdTVaLvoaFmLbKkqEd7HK9UuAMmnXG1gaNQfm7c7MI1zf27oAsf+4TVlSTLDVpkeVj78V8u1iLL2iOyNIC7LG9U3URISCxG+yTRiXwBsQUUJeWXCMI3juj8UtjXVMDHvg7RTlnepHIs1fC6IbI0wC2yvHYDs0iW4wNSEZ9HVcFc7d7Q3YjL5V/LMYbe/HrozVsf9Nahh96830T0tl0PvXnri9569NCbtz54Lt/kqEDS2mvwiydZ2hbhyKETVJjV/xJZ1gGRpQHcZXn96nWEUTV8vF8y7NlnYMs+D+uKc3fFtuK8ymcEvfn10Ju3PuitQ4/a7MuDRG/b9dCbt77orUePhj6Wt6/jPJILiuBny0OMfT5FlkepMLuu+kJtEVkawF2W/D6eqEgLuvabiEGTYzGYGDQp5h5o+YygP//t6M1bH/TWoYvOvN9EdLddB71564veenTRmbc+6K1jyJRYdB04FUHhcThxgiJLLsMcW3qUceHeiCwN4JKluijT9zOnz2H7tu3YsmkTsfmebGU2bzGE3vx6bN1sfJlG0FuHHg293vuF3rbrcT/2R289evwz/oabN27ChnXrcejrg7hSeYUKcE05FmqHyNIA7rJUL6fnwiZJ0kOUuNzevH5DNeyoWpJb+RaMIbI0AMtSE6Vr2ClMNY4K4T25dXl3Q3/+29Gbtz7orUMf/fm/aehv++3ozVtf9Najj/78dUVvHWqas6yqPPT5sPwNv2mILAVBEAwgshQEQTCAyFIQBMEAIktBEAQDiCwFQRAMILIUBEEwgMhSEATBACJLQRAEA4gsBUEQDCCyFARBMIDIUhAEwQAiS0EQBAOILAVBEAwgshQEQTCAyFIQBMEAIktBEAQDiCwFQRAMILIUBEEwgMhSEATBACJL4b7B73qR970IjQWR5aOG28ur7gvOF2IxN67fVFS/OKsx4jqeLvTyPGjct+ubvJ3fcESWtYULmiu5Ch4nVwH0nO45vwuj+RqS+7jOmyRF9f1uqaH3031/OLkv331aA6/3nvv6T9oOQ8v2zOOeGnp7Gjkiy9pCBWz7th3YunU7rly5ikull7Bu7TocO3pMTd+3dx9WZK7AgX0HcO3aNZqBZnGfnxMt4/TJ08jPy1cvwS8rK9NGu+erD54nCI+jVFZejoL8lZg3dz4O7D+A61XXtQnOdPMmRYE0yhUZ3rbcO6AiR/r/2tUq2v/9cGTnEA7kOnKQm5NLx2cDTp8+gxv80mrX9tQXSoUXCrF61RosXrQEu3ftxlX6e6hE63D9XXj9Fy9c1MbrLcfJLfvL2+hKettL465evortVAayMrOQQ/uZ48hFDu03r/PEsROoulZFGSnf1atq23g7Dh08hKoqbfxty6wtlK5cvoI9u/bAscKB/VzermrljacroVO6fPkyNqzfiAXzF6q/+ZHDR+h4LUZebh6KLhZp+6e3j8JtiCyN4CpQlM6cOYNP27XH2DHjUFlxGQupELZu1Rorslao6ZMnTcZvf/NbTPOahpLiYjWOq6LVy6JESsLCBQvxwvMvoP2n7VUhVuP5Xc/sL/d11xZKlZWVJPOtyMvLw/Fjx3H9ujZh9+7daPJBE/zwhz+Ct/cMlJSUKKHv2rlbSfTIoSPaSc6bq6rPNJMBlCwplZOMJ06ciN/86jf42U9+hp//7H/ws5/+HH/645/Qu1dvbNiwUdsWzu6xjFpDaWXBSrzz9jv4z+/9J9q2aauk5Er79+3Hxx99jCf+/KQSg0p6y2F4e7RdoM+bSjwsoEMHD1cfu1vyUjp75iw+7/o5fvyjH9N+/ty5rz/DY797DN26dsPaNetUvqLCIowYNgJ/efKvCJ0VirJL2oWxep11hdK5c+cweuRo/N+f/k+Vt6Iikh8nmu76m+zevQdtWrfBd/71OxgxfAS8pnjhJ//9Ezz/3PPIXpGtXcA4ufZPuCMiS6M4U0x0LH5EJ8i4seOU5Fq2aIW/P/W0iig4DRk8FP/yrX/ByOEjUVzkkiX94yzgnDiCS05OwW9Iqnyy79q1SxvPsnTL50qq4Hss45bvnGjYdYJwlNvxsw50Ej0OS5xVRRecOLLp26cvXn7pZURHx6CiolLJ/8t+X+LJJ55EaGhYdZR7S+LFuo6D5zbQONd6OZobPHAw/uVf/gWPPfYHNP2kqRIWXzy+9a1voQNt01cHvlZ5b9t+V3Kt607TOTmn8QXqb3/7m1r2d//tu/Cd6UcXCm1fWZz/ePUf+OEPfoilS5epcWo777ZeSjfoCjFh/AT8z8//ByFBIbdEq+7bdfLESXz04Udq3X958i9o2bwlmjdtro45b0sLGt5P5aO0tBQ9u/fAT37yE0yfPl1doO6Y3NfhQi85x58+dRp9e/fF9//r+xg5YmRNBO2WuIx+1v4z/Mu3/wUDBwzEDLpI/u///i+e/vszyKSomPdXJf4Q7orI0iiULlPE1rlTF3WCdOrYCX6+fvjzn/9MJ8e/w26LV9EYS/K73/muuuIXOyNLThcvXsS2rduwfv16FcElJSaRUB7D+++9jz109VeJToKS4hIlzzVr1mDblm04f/Y8LVfbAK5mnTx5UkWLHKGwFNesXYMtW7bgwvmLSsKcWNxvvP6GOkE50t2/fz+uXLmi4AgyNSUVX3+lSWvz5s1o3qy5ijaGDx2uIjKW3hmqNvN8p06eQhVVr10nKMv00KFDOHzkKH0vv0VAPN8AOiH5+AwfNhznzp5DRXkFHRu72tdf/vKXSElO1SJtSlxF5WWtW7cO69etx1FaJo9zT8V0PHbs2InVq1fTtvJ+XqiWM0d/T/3tKbU+5pmnn0FejhZF7t29V8nyxz/+byxfnqHG8XwMS2bzps1YR9HfVwe+QuXlSjWdj+9RvtB06KSEP3TIUHVbhYXHEWZ1pE3p1MnT+LDJh/hXyufv64+y0jJVNV+8cLGS508pylyUvlgdkz59+tDwT+Ezw0cti9P169dx+jRtBx1//lvv3btXLYOPpfsxZVnzcdmwfoM6Tge/PkgXuQo1jaPbL/v1x4+opjB61GgUXixU4zni3LNnr/rbXbp0SZWBFs1bqGXwrR+W/NSpXiikqFcl134Jd0VkaRRKXEXlqtRLL74E7+neyKCT8IvPu1HV9kN1T4olwFWdf/vOv90iyy2bt9L4kXjumefw2O8fU3LqQdEGR5YfNvkIe/dosuQowGvqNFr+y/j9b39PV/+nMZQi1S2btqjpfJJzwefqn/f0GaoK//vfUT6KbCdNmKQkypLoQkL/z//8T3z3u99V09u0aqOqXHxyBgcFq0hy9arV2LF9B3r16E1S/anK+5tf/5aqs+0wb+48pJLUOGpmgbrEyonvR7Zr+ylGjRilqquuk5oTn5gD+g/At7/9bXh5eSk5c9q2bRveefcdfO//fQ8RYZFqHj5R4+0JaNa0maqmc0TWollLzJ83vzq6ZUnwfr768qv4A1VvOYLv9kW3aiGyLJ+giJhF/Pen/q4i+p7de6oIiyVYI8vlKv/1qht0HBz4vMvn+CtVi/9A0e97772HiIhIVV3m+3l9+/SjC8dP8a/f/ld17D5q8jFmp82h6FzbF1dZYBE1adKEZPkdKhNh1ZJftXK1kvavf/VrtX28L7379K6WJQ/zceGyw2Xgr3/9K373u9+pi5uPtw/27duH66oqQhcKqpmkUA2kbdu2qqr9xz/8UUXqMVQr4O3lC3D/L/ur6JlrOizRHTt2oD8JtBX97fhvyH+76KhopKXOxjUqv5nLM+E9zRubNm2SKngtEVkagG+Wu26Yc6TAN9XPn7ugho8dPa7d66uqIq5j2JBh6gTiahGfGHz179yps4p8uPrz8ssv4/H/exw/+K8fqPtIzZu1UJK8QCd4r569qUr1Azz//PMqcn3ttdfUidCOBHb48GEcOXIEH7z3gVoWRxN//ctflVBZjD/7+c9U1XotRZV8/46jW64O/vRnP8W777yLrOVZSiCtWrXGr371KyQkJJDEt9B6OuO//uu/8K+0LSyJt956G4sWpiOdeOLPT+B3v/0dkpOTVSTEJ++QwUPU+rt07oITx0+oY1AdWZIsuarHsuzdqw82bdis9s3f3x8///nP1Qm/dMlSlZdvD/zif3+BX//610q+LGbepyeffFKJhFNI8Cx1P/Lxxx9H185dlVD4GLJ0uHEql6TJx/LVV1+lKrgvnnv2Ofz3j/5b3Q/mfX3ttdfx3z/+SfXyOKp68YUX1T1blk7HzzoqAfE9R4vZqv6uXbp0wfdond+hv+H//g/9vV56GfFUa7jsrN6rMkGJZcnL4GPRqmUrBAUGKwl98H4T/OIXv8CgQYNxhv72xSXF9HftpWTp6+uLyopKrKAL17PPPEvl5F/VMX7lpVfU9P/4j/9A//79Ve2Bo0urxYrf//736kLGF4Onn34a//7v/44//OEPmDdvHs6ePYtBAwerfeRbB3xvtn279upizZHkpo2bcO3KNRWxura/tKQUxYXFNbUFj7Iu3BmRZW1xRVL86fruTFyNGzZ0GEnw3zBm1FhVVeYo4L8punmcIqe4uDgS3lF1kn/y0SfqPlLLFi3p6n9QtVb+iqIRPikWzFugWsu5pfWNN97Ez+hkTk5KxuGDh9Dsk6bqBG3atKk6Obhqz5Em37fiRpTz586rSPZ1EstPKWKcMG6Cun/HVfnDFDnxif2bX/8GsTGxSvBbtm5R9xZZMny/cfu27Wo8n4gcgfKJytEi7ws3GLHMeP6E+MTqyFEdF0osy8Ekie98h8RL637h+Rfx3HPP40c/+pHalmkUNfNyePte+wddCH74Q0yeOFlFqHv37EO/vv3Uvg0cMIjEXKKicSWjVq2U2Hdu26ki+COHj6r1ORw5+PPjf1bVXm7sme41XR1TjtxZmO+++66KLLOystT+dyHh8vJ6UPS5dfM2usgdVULm2wMsxY3rN+LUiVPqAsIXGt6XnTt2qlsj1VGY829+iqJ8vtDx8vii9x/f/Q/827/9mxrmC0B0VIxqrS4sLFSy5MafkOAQFS336d1HXaA6duhIkegqFdGaYk1U6/g9fksXJ66+b1q/iY7R6+rvOpQuwFu3bFV/m6CAIBXVr1m9Rt1v5m1kqX/ycVO8/fbbqqzxfnKtwXVbRiX+6l5+XeVZMIzIsgFw3UPjqzjLkq/sY0aPVffXWADf/ta3MX7c+OpqORdirl5x1PbRRx9h957dmD5tuqqmcvTFVWGORrma/cTjT1B0+SPM9JmJXTt30UnxiYokbFa7OoG5+hcWGob/oRPms08/Uw0PHPFx9fYXv/glTCbTLQ08LlmyxLklnKMYli2fcLwO1z01TnZ7PIn6ZypyW5GVjenTvVVk065tO7UslVzHgZJLlv9GUS2Ln1vFed9/8IMfYNLESeoeJiezyUzy/Bn+5+f/i6Z0kneiCK9b1y/w5utvkuy+TReCZjj49SGSxiI89de/q+PCVeqJEyZh2dLl1VE9d09iWT7+f3/G+vUbVBT77tvvKmF2/6I7XnrpJXXvkKvefK+PI3We9v6776tIlSPL1q3aqMac75O8eH2c+F7lv/3rd5V8uWdBdeI/s1M2LEv+W7AcmzVrpiLbwIBAFVH/jqrvz1KUy12J+J4ry5Ejx9DQUJLYTrz15lvqb8Bdnlzp1KlTWgRKF5WxVHaiIqPULRs+Jjt3aA2AnLisue5hsyw50v8xRcpc5nhbOBK12WzVf3OVXKIU6oXIsgHQkyV3LTpz+iy6d+tBwvgXBPgH1rSsUlpC1VGuQnJXHm7QmTBhIonoP1RVkqvjffv0UScZ37OcRNFXXm6+ir4++vBj/OoXv1L39jhdpWg2IjxSVWm5CnbixAkcO3ZMSZjHsZg4wuHEjSnczYlbp12R5XESa6dOXZRsfX38qJp2SeXlxI09bdq0UcJkqXFXp9/+5nfqHpjrZFS3J5wCca+G80mcaE9U1V6+TcCNYdy1iFNURJS6vcD3Kvn+Id9jY8kMGjgEQwYNVdvMIuBGlfy8AhVJvU5R1o9/+GN1oZg8aQrKy8pVtZob2LiavmrVKrVsvoj8ki4SLJ3vf/8HFDX+WvWD5Oj6xRdfxL9/999VNM/VV76QDRo4iC5sYzB1ylTsoiiS02Dadr4twRcHV+u6itL47+3cV27g4XvV/Ldmsbn6VfIFkavSHBGOGjVKXVQ4Uubt4fvd3Gj3xhtv4A+//4OSvStxjYCPGUegQwYNUVHob3/7W9UYw7cU9NLpUyRLyvtf//lf6nhyN63v0IWqQ4cO2OO8Dy6ibDhElg2AbmQ5ZiyKqCrJDTJcpeOW040bNqp8Z0miI4aPUlUxjgBZShEREar1uj1Fh66oje81rV2zVnW85ntdhw8dxnsUFbEM5s6Zq/JwZBkeFq7u5bkiy+PHj6uqKLdwc0MURy2ceH6+Z8kNS7EUWbIsT1Derqq/4H8rKR07dlxJ3RW9JFJ1+/e/fYwisn9VkQs3SG2hKiEnzqMnS87HVe7r166r6uiPf/xj/Jmiv/QF6SrfksVLVFTNDSEZyzKUFG/QMeRqJkewXBVmwe+miwjfauD+jsePnVDL5PuafL+P83IL+RNPPKEuOlyd5cTRK0eMvA3Mr+nCwo1bHOVzYw7LkmXt6sDNUThHgNzqzZE6S3Eo30r5znfobzlUNarx7QZX/1P1N6fE9yy11vB/VbUC7j1wif5eW0mGXCP43ve+pyJUFh3f3lCRJcmSh/mCxXLjxjzuxcBp3dq16h4r3z/lC9mihYvUPWm+P8k9J/ieI/csWLt6HRbMT1f3yc84Zcnb0Lx5CyXY1159TYmayx3fAlDJrawKdUdk2QC4uqqxZFyy4FZxjn64c/grL7+ixnFDC9+I59ZqjiB4HN9rOkAnkKtf4P/7j/+n+sVxlY4jDe5U/cH7H2Dnzp3gJ0O4CsdRSlpqmrZOpyz5JGvdug2OHj2qupAMomiGZfzHP/4RPXv0RB5FYfs4UqQ8fI8uMjJSSYDvx3FLKkd/XIXj1ma+f8oNWZy2b9+BFhSJfftf/gX/QZEvR7muLifqIuHW/5Pnce0/R2ssvAsXL1IE96Uax1E07yeLf9jQ4aq6/vxzLygJckswN3Rwq/ictLkoulisGsm4isyNFRzNcgTKURRHmdxqXFBQoKrh3EiTn5+vbQSlbBLu3//+tFrn/1JVf/kyrTWcjxNLiwXEHcUD/ALoeHCk/RslrlLnPnMD0ve//311UeG/Fd9D5guBSs6/9UmSpauf5bPPPkvReSd07aI1Qv2///f/VPTOFzSWdK/evdSFMJBqF9xIxpEo79fPic+7fkG1kLGqCxnf8+S/NYubI9QRI0Yo6fL28nHlxsO/PPEX/I6ie2ucVXUd4/vJ3CA1mo43yzQpIUktm2/ncK8G11NknmVWqD0iy4aCEkcrUyZPwe9/9xidcDOrhcNdOF5+8WXVWMIn169++St1cjzz1DPq3uSBAwfUMrhws1C5VZSrshyRcuMF3zvjiImjRhYpP33hEgCfDNyPkaM07qDsaqHOzMx0Rj7foUj0V1Q9tamItV+/fnjx+RdVxOiqnnODEzfy8PbxSc2t1yxRTpculWH8uAlqGkufu+24Imn1yfvulCVfHPhiwPvHVXru9M6Jq8gsSr6HyRcBvqjw/Ve+zcD3SrWo9duqNf4Lkgc3WnFrN3fc54ag//zef6n94EYUlkBkRKTab466WU5vvPaG6kOoknNb/P381T2/F0jGrid4LpK4uMWa5cp9Y/n+JUd4HC1zlxrX45/cn5F7FLCYGZanpyy5AYwvQtrTOz9XDSv8NA/f+uBGOY4iuQtTSSk3VI1QDXe83XyB4i5cXlO9lOg5guUywa3+LN/09PTqfpRc42BJck2Cy8O3vv0tdZHlWxd8jC5cuIBx48apBwp4G/k2x9Ejx9TF6Ve//DVdbIfe2mPBVVaFOiGybCjYG1SN4+oh30/ctWNXdVXvSuUVbFi7AZHhkZg5cyYWLlyIfXv2wZHlQEF+QXWjyo2qGyryssRZVOEPD4tQ1UtXv0PVIp1bgKVLlqnWck5cFeaqHVdxuTO660TjhgnuOmK32pWsudrGMlu7ei2WLFqCQ18fqpYD35fbvHmr6vfIVb69e/ZW34PjvnzcaMONLFytrH5KxP3kcwqKBcadveekzcHO7Ttp/7VlsJQ3bdikWtBzHbkoKdJEzFVZbrXmxhG+p8nHjce5Em8DSyHObIH3dB/MCglVx8slLu6wv4yOBVfleTtVcm7L8RPHVTclrs7yvT1X4v6JvA3cKMbrTKRI7MD+r6qPBSfuJrVn914kJ6Wo48d/k6rr2r7AeaHgajG3SM9Om435c+arbZ8/d75aJ18IXA1DLEf+OyxOX6x+L4BvfXDiCynfc+Vol588SqBjz31kXWWGE98m5Qskd+Pii0xQYBAdr3QVUfLtAr5vzMeb//bcaq/6etI8HJlyzYMvqHzfXF3UeLPdy6tQa0SWDYV2Dt2SuJCqZ711pt2SuCxTXr5vp5tXTadPxi3xyVR9IjgTrVEt57b18nf3YUrV6/RMbnlXrVqNZ555trpa5zrZ1XT3fffYPj6Z1T1NneVXN5boJJ7G+6o9m377vK7E03gxtyQeduGWqtfHeM7jSjTe81i6J7Uuml+t927LcUtqeZzXPfEq7rVfrvvAd852W3Idt9vm4WEeL9QbkWVD4Srcdyucd5iuOr27TiyG87jS3ZZXG+6w7jtCie8t8r08roK3bt2aqvEHtQmc3Jfl/O6+D+qEdwnblc8jTzUeeW6Dp7vQm67H3ebhcZw8p+sNu77fC9e8tZmHuds8rmmu5Br2RG9eocERWdYHJQSn6O5WcD3Hu/K6zVMdOd5her2p7bIo8X1SsylONSxwdba8XKviq+k6y3Lfh1v2xx3XdrjP7z5OD/f5jVKfefVw3x7Xcu807D5ffXBf/p3Qy0/fVZlUZdNtulAvRJb1gKMnVV1kaepMr8ZViO+E3jwNTW3XRYkfieP7pBVlFeo7P1t9vb4noN5+u4+7F+7L+meity3uUB5VQ7hXWagNbss2hMe2cNlUDx4JDYLIsh40allyXrdEe6nub/L+6uY3ims73LfFfdy9cF/WPxO9bXGDLyBKTvU9Pu64lq83TQ+3/CLLhkdkWQ8aTJbu6M2vh968d8I9v+dyDOL6BXW9abXCc7s8x90L92X9M9HbFg/4+DRotde1bL1perhtCw836LYIIsv60Ohl6bmMhkBvme7j7oX7sv6Z6G2LJ3rz1YfaLvd+bosgsqwPfBPdhd70atwL8b3Qm18PvXnvhHt+z+XcDc9lNAR6y3Qfdy/cl/XPRm97XOjlry+1Xfb93p5HHJGlIAiCAUSWgiAIBhBZCoIgGEBkKQiCYACRpSAIggFEloIgCAYQWQqCIBhAZCkIgmAAkaUgCIIBRJaCIAgGEFkKgiAYQGQpCIJgAJGlIAiCAUSWgiAIBhBZCoIgGEBkKQiCYACRpSAIggFEloIgCAYQWQqCIBhAZCkIgmAAkaUgCIIBRJaCIAgGEFkKgiAYQGQpCIJgAJGlIAiCAUSWgiAIBhBZCoIgGEBkKQiCYACRpSAIggFEloIgCAYQWQqCIBhAZCkIgmAAkaUgCIIBRJaCIAgGEFkKgiAYQGQpCIJgAJGlIAiCAUSWgiAIBhBZCoIg3BPg/wP+g+TRjg/wDQAAAABJRU5ErkJggg==)"
      ]
    },
    {
      "cell_type": "code",
      "metadata": {
        "colab": {
          "base_uri": "https://localhost:8080/"
        },
        "id": "PO9hnpIy3L49",
        "outputId": "b536b697-2be1-4dbd-f0e1-4559d675bc03"
      },
      "source": [
        "class ResidualIdentityBlock(tf.keras.Model):\r\n",
        "  def __init__(self, filters, kernel_size):\r\n",
        "    super(ResidualIdentityBlock, self).__init__()\r\n",
        "\r\n",
        "    self.conv1 = tf.keras.layers.Conv2D(filters, kernel_size, padding = 'same')\r\n",
        "    self.bn1 = tf.keras.layers.BatchNormalization()\r\n",
        "\r\n",
        "    self.conv2 = tf.keras.layers.Conv2D(filters, kernel_size, padding = 'same')\r\n",
        "    self.bn2 = tf.keras.layers.BatchNormalization()\r\n",
        "\r\n",
        "    self.act = tf.keras.layers.Activation('relu')\r\n",
        "    self.add = tf.keras.layers.Add()\r\n",
        "\r\n",
        "  def call(self, input_tensor):\r\n",
        "    x = self.conv1(input_tensor)\r\n",
        "    x = self.bn1(x)\r\n",
        "    x = self.act(x)\r\n",
        "\r\n",
        "    x = self.conv2(x)\r\n",
        "    x = self.bn2(x)\r\n",
        "\r\n",
        "    x = self.add([x, input_tensor])\r\n",
        "    x = self.act(x)\r\n",
        "\r\n",
        "    return x\r\n",
        "\r\n",
        "# Test Code\r\n",
        "resnetBlock = ResidualIdentityBlock(4, (3,3))\r\n",
        "resnetBlock.build(input_shape=(100,512,512,4))\r\n",
        "resnetBlock.summary()\r\n",
        "#tf.keras.utils.plot_model(resnetBlock)"
      ],
      "execution_count": 63,
      "outputs": [
        {
          "output_type": "stream",
          "text": [
            "Model: \"residual_identity_block_19\"\n",
            "_________________________________________________________________\n",
            "Layer (type)                 Output Shape              Param #   \n",
            "=================================================================\n",
            "conv2d_432 (Conv2D)          multiple                  148       \n",
            "_________________________________________________________________\n",
            "batch_normalization_432 (Bat multiple                  16        \n",
            "_________________________________________________________________\n",
            "conv2d_433 (Conv2D)          multiple                  148       \n",
            "_________________________________________________________________\n",
            "batch_normalization_433 (Bat multiple                  16        \n",
            "_________________________________________________________________\n",
            "activation_216 (Activation)  multiple                  0         \n",
            "_________________________________________________________________\n",
            "add_216 (Add)                multiple                  0         \n",
            "=================================================================\n",
            "Total params: 328\n",
            "Trainable params: 312\n",
            "Non-trainable params: 16\n",
            "_________________________________________________________________\n"
          ],
          "name": "stdout"
        }
      ]
    },
    {
      "cell_type": "markdown",
      "metadata": {
        "id": "5OQlnDleu56f"
      },
      "source": [
        "<a name=\"4-3\"></a>\r\n",
        "## 4.3 Custom Losses"
      ]
    },
    {
      "cell_type": "markdown",
      "metadata": {
        "id": "nwbYoPOWu9Z6"
      },
      "source": [
        "<a name=\"4-4\"></a>\r\n",
        "## 4.4 Custom Model"
      ]
    },
    {
      "cell_type": "markdown",
      "metadata": {
        "id": "ICXWRs4NvIHQ"
      },
      "source": [
        "<a name=\"4-4-1\"></a>\r\n",
        "### 4.4.1 U-Net"
      ]
    },
    {
      "cell_type": "code",
      "metadata": {
        "id": "X6Lk7yxHxRfm"
      },
      "source": [
        "class UNet(tf.keras.Model):\r\n",
        "  def __init__(self, ): #TODO: add missing arguments\r\n",
        "    super(UNet, self).__init__()\r\n",
        "    #downsaple layer\r\n",
        "    #upsample layer\r\n",
        "    ###\r\n",
        "\r\n",
        "  def call(self, inputs):\r\n",
        "    return pass\r\n",
        "  "
      ],
      "execution_count": null,
      "outputs": []
    },
    {
      "cell_type": "markdown",
      "metadata": {
        "id": "3D5UTC_cvSzQ"
      },
      "source": [
        "<a name=\"4-4-2\"></a>\r\n",
        "### 4.4.2 ResNet\r\n",
        "\r\n",
        "TODO: \r\n",
        "\r\n",
        "\r\n",
        "1.   Add Upsampling Layer\r\n",
        "2.   Add Downsampling Layer\r\n",
        "\r\n"
      ]
    },
    {
      "cell_type": "code",
      "metadata": {
        "colab": {
          "base_uri": "https://localhost:8080/",
          "height": 379
        },
        "id": "997vSRlnAIQB",
        "outputId": "c2210400-96e0-4309-878f-0a1f519ba3a5"
      },
      "source": [
        "class ResNet(tf.keras.Model):\r\n",
        "  def __init__(self, filters = 4, kernel_size = (3,3),  num_res_blocks = 5, weight_sharing_active = False):\r\n",
        "    super(ResNet, self).__init__()\r\n",
        "    \r\n",
        "    self.num_res_blocks = num_res_blocks\r\n",
        "    self.weight_sharing_active = weight_sharing_active\r\n",
        "    if (weight_sharing_active):\r\n",
        "      self.resBlock = ResidualIdentityBlock(filters, kernel_size)\r\n",
        "    else:\r\n",
        "      self.resBlock = [ResidualIdentityBlock(filters, kernel_size) for _ in range(num_res_blocks)]\r\n",
        "\r\n",
        "  def call(self, input_tensor):\r\n",
        "    x = input_tensor\r\n",
        "    if (self.weight_sharing_active):\r\n",
        "      for _ in range(0,self.num_res_blocks):\r\n",
        "        x = self.resBlock(x)\r\n",
        "    else:\r\n",
        "      for layer in self.resBlock:\r\n",
        "        x = layer(x)\r\n",
        "    return x\r\n",
        "\r\n",
        "  #def plot_Graph(self, shape):\r\n",
        "  #  x = tf.keras.layers.Input(shape=(shape))\r\n",
        "  #  return tf.keras.Model(inputs=[x], outputs=self.call(x))\r\n",
        "\r\n",
        "# Test Code\r\n",
        "ResNet = ResNet(num_res_blocks = 5, weight_sharing_active = False)\r\n",
        "ResNet.build(input_shape=(None,512,512,4))\r\n",
        "ResNet.summary()\r\n",
        "tf.keras.utils.plot_model(ResNet, show_shapes=True, expand_nested=True)"
      ],
      "execution_count": 69,
      "outputs": [
        {
          "output_type": "stream",
          "text": [
            "Model: \"res_net_2\"\n",
            "_________________________________________________________________\n",
            "Layer (type)                 Output Shape              Param #   \n",
            "=================================================================\n",
            "residual_identity_block_45 ( multiple                  328       \n",
            "_________________________________________________________________\n",
            "residual_identity_block_46 ( multiple                  328       \n",
            "_________________________________________________________________\n",
            "residual_identity_block_47 ( multiple                  328       \n",
            "_________________________________________________________________\n",
            "residual_identity_block_48 ( multiple                  328       \n",
            "_________________________________________________________________\n",
            "residual_identity_block_49 ( multiple                  328       \n",
            "=================================================================\n",
            "Total params: 1,640\n",
            "Trainable params: 1,560\n",
            "Non-trainable params: 80\n",
            "_________________________________________________________________\n"
          ],
          "name": "stdout"
        },
        {
          "output_type": "execute_result",
          "data": {
            "image/png": "[encoded data removed]",
            "text/plain": [
              "<IPython.core.display.Image object>"
            ]
          },
          "metadata": {
            "tags": []
          },
          "execution_count": 69
        }
      ]
    },
    {
      "cell_type": "markdown",
      "metadata": {
        "id": "rAriFfhRvTp0"
      },
      "source": [
        "<a name=\"4-4-3\"></a>\r\n",
        "### 4.4.3 PatchGAN Discriminator"
      ]
    },
    {
      "cell_type": "markdown",
      "metadata": {
        "id": "MgGFwNHWvVBc"
      },
      "source": [
        "<a name=\"4-4-4\"></a>\r\n",
        "### 4.4.4 CycleGAN"
      ]
    },
    {
      "cell_type": "markdown",
      "metadata": {
        "id": "wqCVLKEPuj1M"
      },
      "source": [
        "<a name=\"4-2\"></a>\r\n",
        "## 4.2 Custom Callbacks"
      ]
    },
    {
      "cell_type": "markdown",
      "metadata": {
        "id": "EJ8NXorMpYOi"
      },
      "source": [
        "<a name=\"5\"></a>\r\n",
        "# 5. Training the Model"
      ]
    },
    {
      "cell_type": "markdown",
      "metadata": {
        "id": "fKIzE5tNpsJc"
      },
      "source": [
        "<a name=\"6\"></a>\r\n",
        "# 6. Validating the Model"
      ]
    },
    {
      "cell_type": "markdown",
      "metadata": {
        "id": "sv5YVv95t6dT"
      },
      "source": [
        "<a name=\"A\"></a>\r\n",
        "# A. TESTING AND DEBUGGING"
      ]
    },
    {
      "cell_type": "code",
      "metadata": {
        "id": "veSk3KhBj4NA"
      },
      "source": [
        "#Prepare_filename(directory):\r\n",
        "rgbd_samples = Combine_color_depth(DATA_PATH)\r\n",
        "Plot_RGBD_Sample(rgbd_samples[24,:,:,:])\r\n",
        "Plot_Multiple_RGBD(rgbd_samples)\r\n",
        "#Create_tensorflow_dataset(rgbd_samples)"
      ],
      "execution_count": null,
      "outputs": []
    },
    {
      "cell_type": "code",
      "metadata": {
        "id": "SAca5159o2Jt"
      },
      "source": [
        ""
      ],
      "execution_count": null,
      "outputs": []
    }
  ]
}