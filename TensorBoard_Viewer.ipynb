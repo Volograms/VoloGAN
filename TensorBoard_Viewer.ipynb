{
  "nbformat": 4,
  "nbformat_minor": 0,
  "metadata": {
    "colab": {
      "name": "TensorBoard_Viewer.ipynb",
      "provenance": [],
      "collapsed_sections": [],
      "mount_file_id": "1--9KDCib3bnkF0ca_Dit1VIn8o86B5wd",
      "authorship_tag": "ABX9TyPgG+ysROGhvXLmiYLQmlmY",
      "include_colab_link": true
    },
    "kernelspec": {
      "name": "python3",
      "display_name": "Python 3"
    }
  },
  "cells": [
    {
      "cell_type": "markdown",
      "metadata": {
        "id": "view-in-github",
        "colab_type": "text"
      },
      "source": [
        "<a href=\"https://colab.research.google.com/github/SaKi1309/VoloGAN/blob/master/TensorBoard_Viewer.ipynb\" target=\"_parent\"><img src=\"https://colab.research.google.com/assets/colab-badge.svg\" alt=\"Open In Colab\"/></a>"
      ]
    },
    {
      "cell_type": "code",
      "metadata": {
        "id": "iZQoz5lEKa_0",
        "colab": {
          "base_uri": "https://localhost:8080/"
        },
        "outputId": "edd762d8-70c8-4612-9891-58c2f9539d36"
      },
      "source": [
        "import os\n",
        "from tensorboard import notebook\n",
        "!pip install -U tensorboard_plugin_profile \n",
        "\n",
        "BASE_DRIVE_DIRECTORY = os.path.join(\"/content\",\"drive\",\"MyDrive\",\"Master\",\"Volograms\")\n",
        "!ls -r $BASE_DRIVE_DIRECTORY/logs"
      ],
      "execution_count": 1,
      "outputs": [
        {
          "output_type": "stream",
          "text": [
            "Collecting tensorboard_plugin_profile\n",
            "  Downloading tensorboard_plugin_profile-2.5.0-py3-none-any.whl (1.1 MB)\n",
            "\u001b[?25l\r\u001b[K     |▎                               | 10 kB 19.4 MB/s eta 0:00:01\r\u001b[K     |▋                               | 20 kB 28.0 MB/s eta 0:00:01\r\u001b[K     |▉                               | 30 kB 33.6 MB/s eta 0:00:01\r\u001b[K     |█▏                              | 40 kB 26.1 MB/s eta 0:00:01\r\u001b[K     |█▌                              | 51 kB 16.9 MB/s eta 0:00:01\r\u001b[K     |█▊                              | 61 kB 12.7 MB/s eta 0:00:01\r\u001b[K     |██                              | 71 kB 12.2 MB/s eta 0:00:01\r\u001b[K     |██▍                             | 81 kB 13.5 MB/s eta 0:00:01\r\u001b[K     |██▋                             | 92 kB 14.7 MB/s eta 0:00:01\r\u001b[K     |███                             | 102 kB 10.9 MB/s eta 0:00:01\r\u001b[K     |███▎                            | 112 kB 10.9 MB/s eta 0:00:01\r\u001b[K     |███▌                            | 122 kB 10.9 MB/s eta 0:00:01\r\u001b[K     |███▉                            | 133 kB 10.9 MB/s eta 0:00:01\r\u001b[K     |████                            | 143 kB 10.9 MB/s eta 0:00:01\r\u001b[K     |████▍                           | 153 kB 10.9 MB/s eta 0:00:01\r\u001b[K     |████▊                           | 163 kB 10.9 MB/s eta 0:00:01\r\u001b[K     |█████                           | 174 kB 10.9 MB/s eta 0:00:01\r\u001b[K     |█████▎                          | 184 kB 10.9 MB/s eta 0:00:01\r\u001b[K     |█████▋                          | 194 kB 10.9 MB/s eta 0:00:01\r\u001b[K     |█████▉                          | 204 kB 10.9 MB/s eta 0:00:01\r\u001b[K     |██████▏                         | 215 kB 10.9 MB/s eta 0:00:01\r\u001b[K     |██████▌                         | 225 kB 10.9 MB/s eta 0:00:01\r\u001b[K     |██████▊                         | 235 kB 10.9 MB/s eta 0:00:01\r\u001b[K     |███████                         | 245 kB 10.9 MB/s eta 0:00:01\r\u001b[K     |███████▍                        | 256 kB 10.9 MB/s eta 0:00:01\r\u001b[K     |███████▋                        | 266 kB 10.9 MB/s eta 0:00:01\r\u001b[K     |████████                        | 276 kB 10.9 MB/s eta 0:00:01\r\u001b[K     |████████▏                       | 286 kB 10.9 MB/s eta 0:00:01\r\u001b[K     |████████▌                       | 296 kB 10.9 MB/s eta 0:00:01\r\u001b[K     |████████▉                       | 307 kB 10.9 MB/s eta 0:00:01\r\u001b[K     |█████████                       | 317 kB 10.9 MB/s eta 0:00:01\r\u001b[K     |█████████▍                      | 327 kB 10.9 MB/s eta 0:00:01\r\u001b[K     |█████████▊                      | 337 kB 10.9 MB/s eta 0:00:01\r\u001b[K     |██████████                      | 348 kB 10.9 MB/s eta 0:00:01\r\u001b[K     |██████████▎                     | 358 kB 10.9 MB/s eta 0:00:01\r\u001b[K     |██████████▋                     | 368 kB 10.9 MB/s eta 0:00:01\r\u001b[K     |██████████▉                     | 378 kB 10.9 MB/s eta 0:00:01\r\u001b[K     |███████████▏                    | 389 kB 10.9 MB/s eta 0:00:01\r\u001b[K     |███████████▍                    | 399 kB 10.9 MB/s eta 0:00:01\r\u001b[K     |███████████▊                    | 409 kB 10.9 MB/s eta 0:00:01\r\u001b[K     |████████████                    | 419 kB 10.9 MB/s eta 0:00:01\r\u001b[K     |████████████▎                   | 430 kB 10.9 MB/s eta 0:00:01\r\u001b[K     |████████████▋                   | 440 kB 10.9 MB/s eta 0:00:01\r\u001b[K     |█████████████                   | 450 kB 10.9 MB/s eta 0:00:01\r\u001b[K     |█████████████▏                  | 460 kB 10.9 MB/s eta 0:00:01\r\u001b[K     |█████████████▌                  | 471 kB 10.9 MB/s eta 0:00:01\r\u001b[K     |█████████████▉                  | 481 kB 10.9 MB/s eta 0:00:01\r\u001b[K     |██████████████                  | 491 kB 10.9 MB/s eta 0:00:01\r\u001b[K     |██████████████▍                 | 501 kB 10.9 MB/s eta 0:00:01\r\u001b[K     |██████████████▊                 | 512 kB 10.9 MB/s eta 0:00:01\r\u001b[K     |███████████████                 | 522 kB 10.9 MB/s eta 0:00:01\r\u001b[K     |███████████████▎                | 532 kB 10.9 MB/s eta 0:00:01\r\u001b[K     |███████████████▌                | 542 kB 10.9 MB/s eta 0:00:01\r\u001b[K     |███████████████▉                | 552 kB 10.9 MB/s eta 0:00:01\r\u001b[K     |████████████████▏               | 563 kB 10.9 MB/s eta 0:00:01\r\u001b[K     |████████████████▍               | 573 kB 10.9 MB/s eta 0:00:01\r\u001b[K     |████████████████▊               | 583 kB 10.9 MB/s eta 0:00:01\r\u001b[K     |█████████████████               | 593 kB 10.9 MB/s eta 0:00:01\r\u001b[K     |█████████████████▎              | 604 kB 10.9 MB/s eta 0:00:01\r\u001b[K     |█████████████████▋              | 614 kB 10.9 MB/s eta 0:00:01\r\u001b[K     |██████████████████              | 624 kB 10.9 MB/s eta 0:00:01\r\u001b[K     |██████████████████▏             | 634 kB 10.9 MB/s eta 0:00:01\r\u001b[K     |██████████████████▌             | 645 kB 10.9 MB/s eta 0:00:01\r\u001b[K     |██████████████████▉             | 655 kB 10.9 MB/s eta 0:00:01\r\u001b[K     |███████████████████             | 665 kB 10.9 MB/s eta 0:00:01\r\u001b[K     |███████████████████▍            | 675 kB 10.9 MB/s eta 0:00:01\r\u001b[K     |███████████████████▋            | 686 kB 10.9 MB/s eta 0:00:01\r\u001b[K     |████████████████████            | 696 kB 10.9 MB/s eta 0:00:01\r\u001b[K     |████████████████████▎           | 706 kB 10.9 MB/s eta 0:00:01\r\u001b[K     |████████████████████▌           | 716 kB 10.9 MB/s eta 0:00:01\r\u001b[K     |████████████████████▉           | 727 kB 10.9 MB/s eta 0:00:01\r\u001b[K     |█████████████████████▏          | 737 kB 10.9 MB/s eta 0:00:01\r\u001b[K     |█████████████████████▍          | 747 kB 10.9 MB/s eta 0:00:01\r\u001b[K     |█████████████████████▊          | 757 kB 10.9 MB/s eta 0:00:01\r\u001b[K     |██████████████████████          | 768 kB 10.9 MB/s eta 0:00:01\r\u001b[K     |██████████████████████▎         | 778 kB 10.9 MB/s eta 0:00:01\r\u001b[K     |██████████████████████▋         | 788 kB 10.9 MB/s eta 0:00:01\r\u001b[K     |██████████████████████▉         | 798 kB 10.9 MB/s eta 0:00:01\r\u001b[K     |███████████████████████▏        | 808 kB 10.9 MB/s eta 0:00:01\r\u001b[K     |███████████████████████▌        | 819 kB 10.9 MB/s eta 0:00:01\r\u001b[K     |███████████████████████▊        | 829 kB 10.9 MB/s eta 0:00:01\r\u001b[K     |████████████████████████        | 839 kB 10.9 MB/s eta 0:00:01\r\u001b[K     |████████████████████████▍       | 849 kB 10.9 MB/s eta 0:00:01\r\u001b[K     |████████████████████████▋       | 860 kB 10.9 MB/s eta 0:00:01\r\u001b[K     |█████████████████████████       | 870 kB 10.9 MB/s eta 0:00:01\r\u001b[K     |█████████████████████████▎      | 880 kB 10.9 MB/s eta 0:00:01\r\u001b[K     |█████████████████████████▌      | 890 kB 10.9 MB/s eta 0:00:01\r\u001b[K     |█████████████████████████▉      | 901 kB 10.9 MB/s eta 0:00:01\r\u001b[K     |██████████████████████████▏     | 911 kB 10.9 MB/s eta 0:00:01\r\u001b[K     |██████████████████████████▍     | 921 kB 10.9 MB/s eta 0:00:01\r\u001b[K     |██████████████████████████▊     | 931 kB 10.9 MB/s eta 0:00:01\r\u001b[K     |███████████████████████████     | 942 kB 10.9 MB/s eta 0:00:01\r\u001b[K     |███████████████████████████▎    | 952 kB 10.9 MB/s eta 0:00:01\r\u001b[K     |███████████████████████████▋    | 962 kB 10.9 MB/s eta 0:00:01\r\u001b[K     |███████████████████████████▉    | 972 kB 10.9 MB/s eta 0:00:01\r\u001b[K     |████████████████████████████▏   | 983 kB 10.9 MB/s eta 0:00:01\r\u001b[K     |████████████████████████████▌   | 993 kB 10.9 MB/s eta 0:00:01\r\u001b[K     |████████████████████████████▊   | 1.0 MB 10.9 MB/s eta 0:00:01\r\u001b[K     |█████████████████████████████   | 1.0 MB 10.9 MB/s eta 0:00:01\r\u001b[K     |█████████████████████████████▍  | 1.0 MB 10.9 MB/s eta 0:00:01\r\u001b[K     |█████████████████████████████▋  | 1.0 MB 10.9 MB/s eta 0:00:01\r\u001b[K     |██████████████████████████████  | 1.0 MB 10.9 MB/s eta 0:00:01\r\u001b[K     |██████████████████████████████▎ | 1.1 MB 10.9 MB/s eta 0:00:01\r\u001b[K     |██████████████████████████████▌ | 1.1 MB 10.9 MB/s eta 0:00:01\r\u001b[K     |██████████████████████████████▉ | 1.1 MB 10.9 MB/s eta 0:00:01\r\u001b[K     |███████████████████████████████ | 1.1 MB 10.9 MB/s eta 0:00:01\r\u001b[K     |███████████████████████████████▍| 1.1 MB 10.9 MB/s eta 0:00:01\r\u001b[K     |███████████████████████████████▊| 1.1 MB 10.9 MB/s eta 0:00:01\r\u001b[K     |████████████████████████████████| 1.1 MB 10.9 MB/s eta 0:00:01\r\u001b[K     |████████████████████████████████| 1.1 MB 10.9 MB/s \n",
            "\u001b[?25hRequirement already satisfied: werkzeug>=0.11.15 in /usr/local/lib/python3.7/dist-packages (from tensorboard_plugin_profile) (1.0.1)\n",
            "Collecting gviz-api>=1.9.0\n",
            "  Downloading gviz_api-1.9.0-py2.py3-none-any.whl (15 kB)\n",
            "Requirement already satisfied: protobuf>=3.6.0 in /usr/local/lib/python3.7/dist-packages (from tensorboard_plugin_profile) (3.17.3)\n",
            "Requirement already satisfied: setuptools>=41.0.0 in /usr/local/lib/python3.7/dist-packages (from tensorboard_plugin_profile) (57.2.0)\n",
            "Requirement already satisfied: six>=1.10.0 in /usr/local/lib/python3.7/dist-packages (from tensorboard_plugin_profile) (1.15.0)\n",
            "Installing collected packages: gviz-api, tensorboard-plugin-profile\n",
            "Successfully installed gviz-api-1.9.0 tensorboard-plugin-profile-2.5.0\n",
            "Unet_Unet\n",
            "self-attention\n",
            "Profile_optim\n",
            "one_shot_spec_norm_compare\n",
            "one_shot_GAN_comparison\n",
            "HParam_all\n",
            "final_cropped\n",
            "final_candidate\n",
            "compare\n",
            "ADAM_generator_vs_SGD\n",
            "2021_03_29\n",
            "2021_03_28\n",
            "2021_03_27\n",
            "2021_03_23\n",
            "2021_03_22\n",
            "2021_03_21\n",
            "2021_03_20\n",
            "2021_03_14\n",
            "2021_03_11\n",
            "2021_03_10\n",
            "2021_03_09\n",
            "2021_03_08\n",
            "2021_03_07\n",
            "1624289650_VoloGAN_Training\n",
            "1624122493_VoloGAN_Training\n",
            "1624117172_VoloGAN_Training\n",
            "1624087723_VoloGAN_Training\n",
            "1624037155_VoloGAN_Training\n",
            "1623602064_VoloGAN_Training\n",
            "1623043543_VoloGAN_Training\n",
            "1622845493_VoloGAN_Training\n",
            "1621087325_CycleGAN_Training_model_graph\n",
            "1620886945_CycleGAN_Training_unet_oneshot_dense_spectral_normFix\n",
            "1620228213_CycleGAN_Training_OneShot_Unet5\n",
            "1620223597_CycleGAN_Training_unet_oneshot_spectral_norm\n",
            "1620044440_CycleGAN_Training_hinge\n",
            "1619385668_CycleGAN_Training_conv_depth_space\n",
            "1619283348_CycleGAN_Training_GPU_unet_oneshot_profile\n",
            "1619268252_CycleGAN_Training_TPU_histogram\n",
            "1619201835_CycleGAN_Training_test_pointcloud\n",
            "1618907008_CycleGAN_Training_disc_complex\n",
            "1618842080_CycleGAN_Training_tpu_reflection_gray\n",
            "1618814022_CycleGAN_Training_Unet_gray_unet\n",
            "1618751166_CycleGAN_Training_Grey_dropout\n",
            "1617992626_CycleGAN_Training_GPU_AMSGRAD\n",
            "1617971131_CycleGAN_Training_TPU_ELU\n",
            "1617953901_CycleGAN_Training_TPU_Unet_oneshot_PRELU\n",
            "1617905745_CycleGAN_Training_TPU_Unet_Oneshot_ELU\n",
            "1617894611_CycleGAN_Training_TPU_unet_oneshot_ELU\n",
            "1617783977_CycleGAN_Training_Unet_Oneshot_GPU_reflectionPad\n",
            "1617783739_CycleGAN_Training_Unet_Oneshot_GPU_reflectionPad\n",
            "1617641067_CycleGAN_Training_Unet_Unet_bad\n",
            "1617624157_CycleGAN_Training_Kaggle_TPU_Good\n",
            "1617563191_CycleGAN_Training_TPU_unet_oneshot\n",
            "1617556797_CycleGAN_Training_TPU_unet_oneshot_bad\n",
            "1617537883_CycleGAN_Training_TPU_Unet_oneshot_bad\n",
            "1617531424_CycleGAN_Training\n",
            "1617479218_CycleGAN_Training\n",
            "1617478837_CycleGAN_Training\n",
            "1617478442_CycleGAN_Training\n",
            "1617478003_CycleGAN_Training\n",
            "1617477775_CycleGAN_Training\n",
            "1617469780_CycleGAN_Training\n",
            "1617469640_CycleGAN_Training\n",
            "1617469419_CycleGAN_Training\n",
            "1617469341_CycleGAN_Training\n",
            "1617469034_CycleGAN_Training\n",
            "1617469030_CycleGAN_Training\n",
            "1617469027_CycleGAN_Training\n",
            "1617468748_CycleGAN_Training\n",
            "1617432598_CycleGAN_Training\n",
            "1617402672_CycleGAN_Training\n",
            "1617210465_CycleGAN_Training\n",
            "1617207298_CycleGAN_Training\n",
            "1617204193_CycleGAN_Training\n",
            "1617172867_CycleGAN_Training\n",
            "1617172858_CycleGAN_Training\n",
            "1617120387_CycleGAN_Training_TPU_unet_oneshot\n",
            "1617088228_CycleGAN_Training_GPU_resBottle_Oneshot_Gray\n",
            "1617086712_CycleGAN_Training_GPU_resnet_oneshot\n",
            "1617053463_CycleGAN_Training_GPU_Gray_Unet_oneshot\n",
            "1617051906_CycleGAN_Training_GPU_resBottle_oneshotGAN\n",
            "1617034891_CycleGAN_Training_GPU_Unet_Patchgan\n",
            "1617034560_CycleGAN_Training_GOOD\n",
            "01_compare\n"
          ],
          "name": "stdout"
        }
      ]
    },
    {
      "cell_type": "code",
      "metadata": {
        "id": "Pr3v4QrxKEK7",
        "colab": {
          "base_uri": "https://localhost:8080/",
          "height": 17
        },
        "outputId": "7385bdb3-6162-4c70-85ff-aaac289158bb"
      },
      "source": [
        "notebook.start(\"--logdir {}/logs/{}\".format(BASE_DRIVE_DIRECTORY, \"final_candidate\")) "
      ],
      "execution_count": 2,
      "outputs": [
        {
          "output_type": "display_data",
          "data": {
            "application/javascript": [
              "\n",
              "        (async () => {\n",
              "            const url = new URL(await google.colab.kernel.proxyPort(6006, {'cache': true}));\n",
              "            url.searchParams.set('tensorboardColab', 'true');\n",
              "            const iframe = document.createElement('iframe');\n",
              "            iframe.src = url;\n",
              "            iframe.setAttribute('width', '100%');\n",
              "            iframe.setAttribute('height', '800');\n",
              "            iframe.setAttribute('frameborder', 0);\n",
              "            document.body.appendChild(iframe);\n",
              "        })();\n",
              "    "
            ],
            "text/plain": [
              "<IPython.core.display.Javascript object>"
            ]
          },
          "metadata": {
            "tags": []
          }
        }
      ]
    }
  ]
}